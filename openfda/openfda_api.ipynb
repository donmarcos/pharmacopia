{
  "nbformat": 4,
  "nbformat_minor": 0,
  "metadata": {
    "colab": {
      "provenance": [],
      "collapsed_sections": []
    },
    "kernelspec": {
      "name": "python3",
      "display_name": "Python 3"
    },
    "language_info": {
      "name": "python"
    }
  },
  "cells": [
    {
      "cell_type": "code",
      "source": [
        "import requests\n",
        "import json"
      ],
      "metadata": {
        "id": "k0kgDwUInVhU"
      },
      "execution_count": 1,
      "outputs": []
    },
    {
      "cell_type": "code",
      "execution_count": 2,
      "metadata": {
        "id": "XWl1bEaqmm4W"
      },
      "outputs": [],
      "source": [
        "drug_name = 'Amoxicillin' #Fetch drug name from prescription (EXAMPLE LEVOSIZ 5MG SHOULD BE PUT AS LEVOSIZ-5 IN QUERY)\n",
        "drug_fda = 'https://api.fda.gov/drug/drugsfda.json?search={}&limit=1'\n",
        "drug_label = 'https://api.fda.gov/drug/label.json?search={}&limit=1'\n",
        "drug_ndc = 'https://api.fda.gov/drug/ndc.json?search={}&limit=1' \n",
        "drug_enforcement = 'https://api.fda.gov/drug/enforcement.json?search={}&limit=1'"
      ]
    },
    {
      "cell_type": "code",
      "source": [
        "def clean_text(text):\n",
        "  bad_chars = [';', ':', '!', \"*\",'[','\"','\\n',']']\n",
        "  for i in bad_chars:\n",
        "    text = text.replace(i, '')\n",
        "  return text"
      ],
      "metadata": {
        "id": "7WpQ3gKve646"
      },
      "execution_count": 3,
      "outputs": []
    },
    {
      "cell_type": "code",
      "source": [
        "#finding drug unique number\n",
        "def unique_number(drug_name):\n",
        "  url = \"https://api.fda.gov/drug/drugsfda.json?search={}&limit=1\".format(drug_name.upper())\n",
        "  response = requests.get(url)\n",
        "  unique_number = response.json()['results'][0]['openfda']['unii'][0]\n",
        "  return unique_number"
      ],
      "metadata": {
        "id": "aCbTtnJrnk_v"
      },
      "execution_count": 4,
      "outputs": []
    },
    {
      "cell_type": "code",
      "source": [
        "def general_information(unique_number,drug_fda):\n",
        "  query = drug_fda.format(unique_number)\n",
        "  response = requests.get(query)\n",
        "  generic_name = json.dumps(response.json()['results'][0]['openfda']['generic_name'])\n",
        "  route = json.dumps(response.json()['results'][0]['openfda']['route'])\n",
        "  substance_name = json.dumps(response.json()['results'][0]['openfda']['substance_name'])\n",
        "  dosage_form = json.dumps(response.json()['results'][0]['products'][0]['dosage_form'])\n",
        "  json_object = json.dumps(response.json()['results'][0]['products'][0]['active_ingredients'])\n",
        "  for name in range(len(json.loads(json_object))):\n",
        "    active_ingredients = json.loads(json_object)[name]['name']\n",
        "  \n",
        "  return generic_name, route, substance_name, dosage_form, active_ingredients\n"
      ],
      "metadata": {
        "id": "BGm_JhLAoK_R"
      },
      "execution_count": 5,
      "outputs": []
    },
    {
      "cell_type": "code",
      "source": [
        "def specific_information(unique_number,drug_label):\n",
        "  query = drug_label.format(unique_number)\n",
        "  response = requests.get(query)\n",
        "  adverse_reactions = json.dumps(response.json()['results'][0]['adverse_reactions'])\n",
        "  contraindications = json.dumps(response.json()['results'][0]['contraindications'])\n",
        "  information_for_patients = json.dumps(response.json()['results'][0]['information_for_patients'])\n",
        "  warnings_and_cautions = json.dumps(response.json()['results'][0]['warnings_and_cautions'])\n",
        "\n",
        "  return adverse_reactions, contraindications, information_for_patients, warnings_and_cautions\n"
      ],
      "metadata": {
        "id": "Eyr0DjOwpsX7"
      },
      "execution_count": 6,
      "outputs": []
    },
    {
      "cell_type": "code",
      "source": [
        "def pharm_class(unique_number,drug_ndc):\n",
        "  query = drug_ndc.format(unique_number)\n",
        "  response = requests.get(query)\n",
        "  pharm_class = json.loads(json.dumps(response.json()['results'][0]['pharm_class']))\n",
        "  \n",
        "  return pharm_class"
      ],
      "metadata": {
        "id": "gIPfH3m0nJWd"
      },
      "execution_count": 7,
      "outputs": []
    },
    {
      "cell_type": "code",
      "source": [
        "def recall_information(unique_number,drug_enforcement):\n",
        "  query = drug_enforcement.format(unique_number)\n",
        "  response = requests.get(query)\n",
        "  country = json.loads(json.dumps(response.json()['results'][0]['country']))\n",
        "  reason_for_recall = json.loads(json.dumps(response.json()['results'][0]['reason_for_recall']))\n",
        "  return country, reason_for_recall"
      ],
      "metadata": {
        "id": "iTjscmZUnO6T"
      },
      "execution_count": 8,
      "outputs": []
    },
    {
      "cell_type": "code",
      "source": [
        "unique_number = unique_number(drug_name)\n",
        "generic_name, route, substance_name, dosage_form, active_ingredients = general_information(unique_number,drug_fda)\n",
        "adverse_reactions, contraindications, information_for_patients, warnings_and_cautions = specific_information(unique_number,drug_label)\n",
        "pharm_cl = pharm_class(unique_number,drug_ndc)\n",
        "country, reason_for_recall = recall_information(unique_number,drug_enforcement)"
      ],
      "metadata": {
        "id": "pB9QmeyinUav"
      },
      "execution_count": 9,
      "outputs": []
    },
    {
      "cell_type": "code",
      "source": [
        "class information(dict):\n",
        "\n",
        "  def __init__(self):\n",
        "    self = dict()\n",
        "\n",
        "  def add(self, key, value):\n",
        "    self[key] = value"
      ],
      "metadata": {
        "id": "Up31G5TKxYF7"
      },
      "execution_count": 10,
      "outputs": []
    },
    {
      "cell_type": "code",
      "source": [
        "#Possible insights\n",
        "insights = information()\n",
        "insights.add('generic_name', generic_name)\n",
        "insights.add('route', route)\n",
        "insights.add('substance_name', substance_name)\n",
        "insights.add('dosage_form', dosage_form)\n",
        "insights.add('active_ingredients', active_ingredients)\n",
        "insights.add('information_for_patients',information_for_patients)\n",
        "insights.add('pharm_cl',pharm_cl)\n",
        "insights.add('recall_information',recall_information)"
      ],
      "metadata": {
        "id": "oM8DFr-6YHG2"
      },
      "execution_count": 11,
      "outputs": []
    },
    {
      "cell_type": "code",
      "source": [
        "insights"
      ],
      "metadata": {
        "colab": {
          "base_uri": "https://localhost:8080/"
        },
        "id": "1KG9Xd8D8Jpg",
        "outputId": "b56f3902-fd86-4e3c-de33-324237c0b91e"
      },
      "execution_count": 12,
      "outputs": [
        {
          "output_type": "execute_result",
          "data": {
            "text/plain": [
              "{'generic_name': '[\"AMOXICILLIN\"]',\n",
              " 'route': '[\"ORAL\"]',\n",
              " 'substance_name': '[\"AMOXICILLIN\"]',\n",
              " 'dosage_form': '\"FOR SUSPENSION\"',\n",
              " 'active_ingredients': 'AMOXICILLIN',\n",
              " 'information_for_patients': '[\"17 PATIENT COUNSELING INFORMATION Information for Patients Patients should be advised that amoxicillin may be taken every 8 hours or every 12 hours, depending on the dose prescribed. Patients should be counseled that antibacterial drugs, including amoxicillin, should only be used to treat bacterial infections. They do not treat viral infections (e.g., the common cold). When amoxicillin is prescribed to treat a bacterial infection, patients should be told that although it is common to feel better early in the course of therapy, the medication should be taken exactly as directed. Skipping doses or not completing the full course of therapy may: (1) decrease the effectiveness of the immediate treatment, and (2) increase the likelihood that bacteria will develop resistance and will not be treatable by amoxicillin or other antibacterial drugs in the future. Patients should be counseled that diarrhea is a common problem caused by antibiotics, and it usually ends when the antibiotic is discontinued. Sometimes after starting treatment with antibiotics, patients can develop watery and bloody stools (with or without stomach cramps and fever) even as late as 2 or more months after having taken their last dose of the antibiotic. If this occurs, patients should contact their physician as soon as possible. Patients should be aware that amoxicillin contains a penicillin class drug product that can cause allergic reactions in some individuals. CLINITEST \\\\u00ae is a registered trademark of Siemens Medical Solutions Diagnostics, and Ames Company, Inc. CLINISTIX \\\\u00ae is a registered trademark of Bayer Healthcare Llc, and Ames Company, Inc. CLOtest \\\\u00ae is a registered trademark of Kimberly-Clark Worldwide, Inc. Distributed by: Aurobindo Pharma USA, Inc. 279 Princeton-Hightstown Road East Windsor, NJ 08520 Manufactured by: Aurobindo Pharma Limited Hyderabad-500 038, India Revised: 06/2018\"]',\n",
              " 'pharm_cl': ['Penicillin-class Antibacterial [EPC]', 'Penicillins [CS]'],\n",
              " 'recall_information': <function __main__.recall_information(unique_number, drug_enforcement)>}"
            ]
          },
          "metadata": {},
          "execution_count": 12
        }
      ]
    },
    {
      "cell_type": "code",
      "source": [
        "#Side effects and warnings\n",
        "warning = information()\n",
        "warning.add('adverse_reactions', adverse_reactions)\n",
        "warning.add('contraindications', contraindications)\n",
        "warning.add('warnings_and_cautions', warnings_and_cautions)"
      ],
      "metadata": {
        "id": "ehc-9JRRadhN"
      },
      "execution_count": 13,
      "outputs": []
    },
    {
      "cell_type": "code",
      "source": [
        "warning"
      ],
      "metadata": {
        "colab": {
          "base_uri": "https://localhost:8080/"
        },
        "id": "J2yvzrh4DivO",
        "outputId": "ab6f0c99-b0aa-4973-89c9-061c297c1c58"
      },
      "execution_count": 14,
      "outputs": [
        {
          "output_type": "execute_result",
          "data": {
            "text/plain": [
              "{'adverse_reactions': '[\"6 ADVERSE REACTIONS The following are discussed in more detail in other sections of the labeling: Anaphylactic reactions [see Warnings and Precautions (5.1) ] CDAD [see Warnings and Precautions (5.2) ] The most common adverse reactions (> 1%) observed in clinical trials of amoxicillin capsules, tablets or oral suspension were diarrhea, rash, vomiting, and nausea. (6.1) To report SUSPECTED ADVERSE REACTIONS, contact Aurobindo Pharma USA, Inc. at 1-866-850-2876 or FDA at 1-800-FDA-1088 or www.fda.gov/medwatch . 6.1 Clinical Trials Experience Because clinical trials are conducted under widely varying conditions, adverse reaction rates observed in the clinical trials of a drug cannot be directly compared to rates in the clinical trials of another drug and may not reflect the rates observed in practice. The most common adverse reactions (> 1%) observed in clinical trials of amoxicillin capsules, tablets or oral suspension were diarrhea, rash, vomiting, and nausea. Triple therapy: The most frequently reported adverse events for patients who received triple therapy (amoxicillin/clarithromycin/lansoprazole) were diarrhea (7%), headache (6%), and taste perversion (5%). Dual therapy: The most frequently reported adverse events for patients who received double therapy amoxicillin/lansoprazole were diarrhea (8%) and headache (7%). For more information on adverse reactions with clarithromycin or lansoprazole, refer to the Adverse Reactions section of their package inserts. 6.2 Postmarketing or Other Experience In addition to adverse events reported from clinical trials, the following events have been identified during postmarketing use of penicillins. Because they are reported voluntarily from a population of unknown size, estimates of frequency cannot be made. These events have been chosen for inclusion due to a combination of their seriousness, frequency of reporting, or potential causal connection to amoxicillin. Infections and Infestations: Mucocutaneous candidiasis. Gastrointestinal: Black hairy tongue, and hemorrhagic/pseudomembranous colitis. Onset of pseudomembranous colitis symptoms may occur during or after antibacterial treatment [see Warnings and Precautions (5.2) ] . Hypersensitivity Reactions: Anaphylaxis [see Warnings and Precautions (5.1) ] . Serum sickness\\\\u2013like reactions, erythematous maculopapular rashes, erythema multiforme, Stevens-Johnson syndrome, exfoliative dermatitis, toxic epidermal necrolysis, acute generalized exanthematous pustulosis, hypersensitivity vasculitis, and urticaria have been reported . Liver: A moderate rise in AST and/or ALT has been noted, but the significance of this finding is unknown. Hepatic dysfunction including cholestatic jaundice, hepatic cholestasis and acute cytolytic hepatitis have been reported . Renal: Crystalluria has been reported [see Overdosage (10) ] . Hemic and Lymphatic Systems: Anemia, including hemolytic anemia, thrombocytopenia, thrombocytopenic purpura, eosinophilia, leukopenia, and agranulocytosis have been reported . These reactions are usually reversible on discontinuation of therapy and are believed to be hypersensitivity phenomena. Central Nervous System: Reversible hyperactivity, agitation, anxiety, insomnia, confusion, convulsions, behavioral changes, and/or dizziness have been reported . Miscellaneous: Tooth discoloration (brown, yellow, or gray staining) has been reported . Most reports occurred in pediatric patients. Discoloration was reduced or eliminated with brushing or dental cleaning in most cases.\"]',\n",
              " 'contraindications': '[\"4 CONTRAINDICATIONS Amoxicillin tablets are contraindicated in patients who have experienced a serious hypersensitivity reaction (e.g., anaphylaxis or Stevens-Johnson syndrome) to amoxicillin tablets or to other \\\\u03b2-lactam antibiotics (e.g., penicillins and cephalosporins). History of a serious hypersensitivity reaction (e.g., anaphylaxis or Stevens-Johnson syndrome) to amoxicillin tablets or to other beta-lactams (e.g., penicillins or cephalosporins). (4)\"]',\n",
              " 'warnings_and_cautions': '[\"5 WARNINGS AND PRECAUTIONS Anaphylactic reactions: Serious and occasionally fatal anaphylactic reactions have been reported in patients on penicillin therapy. Serious anaphylactic reactions require immediate emergency treatment with supportive measures. (5.1) Clostridium difficile - associated diarrhea (ranging from mild diarrhea to fatal colitis): Evaluate if diarrhea occurs. (5.2) 5.1 Anaphylactic Reactions Serious and occasionally fatal hypersensitivity (anaphylactic) reactions have been reported in patients on penicillin therapy including amoxicillin. Although anaphylaxis is more frequent following parenteral therapy, it has occurred in patients on oral penicillins. These reactions are more likely to occur in individuals with a history of penicillin hypersensitivity and/or a history of sensitivity to multiple allergens. There have been reports of individuals with a history of penicillin hypersensitivity who have experienced severe reactions when treated with cephalosporins. Before initiating therapy with amoxicillin, careful inquiry should be made regarding previous hypersensitivity reactions to penicillins, cephalosporins, or other allergens. If an allergic reaction occurs, amoxicillin should be discontinued and appropriate therapy instituted. 5.2 Clostridium difficile Associated Diarrhea Clostridium difficile associated diarrhea (CDAD) has been reported with use of nearly all antibacterial agents, including amoxicillin, and may range in severity from mild diarrhea to fatal colitis. Treatment with antibacterial agents alters the normal flora of the colon leading to overgrowth of C. difficile. C. difficile produces toxins A and B which contribute to the development of CDAD. Hypertoxin-producing strains of C. difficile cause increased morbidity and mortality, as these infections can be refractory to antimicrobial therapy and may require colectomy. CDAD must be considered in all patients who present with diarrhea following antibacterial use. Careful medical history is necessary since CDAD has been reported to occur over 2 months after the administration of antibacterial agents. If CDAD is suspected or confirmed, ongoing antibiotic use not directed against C. difficile may need to be discontinued. Appropriate fluid and electrolyte management, protein supplementation, antibiotic treatment of C. difficile , and surgical evaluation should be instituted as clinically indicated. 5.3 Development of Drug-Resistant Bacteria Prescribing amoxicillin in the absence of a proven or strongly suspected bacterial infection is unlikely to provide benefit to the patient and increases the risk of the development of drug-resistant bacteria. 5.4 Use in Patients With Mononucleosis A high percentage of patients with mononucleosis who receive amoxicillin develop an erythematous skin rash. Thus amoxicillin should not be administered to patients with mononucleosis.\"]'}"
            ]
          },
          "metadata": {},
          "execution_count": 14
        }
      ]
    },
    {
      "cell_type": "code",
      "source": [
        "#alternate drug suggestion\n",
        "def alternate_drugs(drug_name,drug_fda):\n",
        "  url = 'https://api.fda.gov/drug/drugsfda.json?search={}&limit=10'.format(drug_name.upper())\n",
        "  response = requests.get(url)\n",
        "  alternate_drugs = information()\n",
        "  for i in range(len(response.json()['results'])):\n",
        "    temp_list = response.json()['results'][i]['products']\n",
        "    for j in range(len(temp_list)):\n",
        "      if(temp_list[j]['marketing_status']!='Discontinued'):\n",
        "        alternate_drugs.add(temp_list[j]['brand_name'], temp_list[j]['active_ingredients'])\n",
        "  return alternate_drugs"
      ],
      "metadata": {
        "id": "hUy2wY2LbGMC"
      },
      "execution_count": 15,
      "outputs": []
    },
    {
      "cell_type": "code",
      "source": [
        "alternate_drugs(drug_name,drug_fda)"
      ],
      "metadata": {
        "colab": {
          "base_uri": "https://localhost:8080/"
        },
        "id": "itaP3_rpFCem",
        "outputId": "ea1e599a-1a44-4656-e5eb-633e86e17794"
      },
      "execution_count": 16,
      "outputs": [
        {
          "output_type": "execute_result",
          "data": {
            "text/plain": [
              "{'AMOXICILLIN': [{'name': 'AMOXICILLIN', 'strength': '250MG/5ML'}],\n",
              " 'AMOXICILLIN AND CLAVULANATE POTASSIUM': [{'name': 'AMOXICILLIN',\n",
              "   'strength': '875MG'},\n",
              "  {'name': 'CLAVULANATE POTASSIUM', 'strength': 'EQ 125MG BASE'}],\n",
              " 'LANSOPRAZOLE, AMOXICILLIN AND CLARITHROMYCIN (COPACKAGED)': [{'name': 'AMOXICILLIN',\n",
              "   'strength': '500MG'},\n",
              "  {'name': 'CLARITHROMYCIN', 'strength': '500MG'},\n",
              "  {'name': 'LANSOPRAZOLE', 'strength': '30MG'}]}"
            ]
          },
          "metadata": {},
          "execution_count": 16
        }
      ]
    },
    {
      "cell_type": "code",
      "source": [
        "#Contradiction\n",
        "#Possible approach : compare active substances of other drugs with substances in warnings from the drug"
      ],
      "metadata": {
        "id": "xMniuOuKbnjb"
      },
      "execution_count": 17,
      "outputs": []
    }
  ]
}