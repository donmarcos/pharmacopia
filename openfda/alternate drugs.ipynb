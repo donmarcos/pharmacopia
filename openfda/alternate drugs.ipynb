{
 "cells": [
  {
   "cell_type": "code",
   "execution_count": 1,
   "id": "1bf94ac2",
   "metadata": {},
   "outputs": [],
   "source": [
    "import requests\n",
    "import json\n",
    "import boto3\n",
    "import os"
   ]
  },
  {
   "cell_type": "code",
   "execution_count": 2,
   "id": "070987b0",
   "metadata": {},
   "outputs": [],
   "source": [
    "CLIENT = boto3.client('dataexchange', region_name = 'us-east-1')\n",
    "DATA_SET_ID = 'b5c571b26671fc8b73a1146b140f0d75'\n",
    "REVISION_ID = '9ae2799c1227cc58002a946e27410dd3'\n",
    "ASSET_ID = '245ba9ec692792d750753ab605f388d2'"
   ]
  },
  {
   "cell_type": "code",
   "execution_count": 3,
   "id": "561ad15f",
   "metadata": {},
   "outputs": [],
   "source": [
    "class information(dict):\n",
    "\n",
    "  def __init__(self):\n",
    "    self = dict()\n",
    "\n",
    "  def add(self, key, value):\n",
    "    self[key] = value"
   ]
  },
  {
   "cell_type": "code",
   "execution_count": 5,
   "id": "1c1e5dc2",
   "metadata": {},
   "outputs": [],
   "source": [
    "def drugs_alternative(drug_name):\n",
    "    QUERY_STRING_PARAMETERS = {'search': drug_name.upper(),'limit': '20' }\n",
    "    response = CLIENT.send_api_asset(\n",
    "        DataSetId=DATA_SET_ID,\n",
    "        RevisionId=REVISION_ID,\n",
    "        AssetId=ASSET_ID,\n",
    "        Method='GET',\n",
    "        Path='/drug/drugsfda.json',\n",
    "        QueryStringParameters=QUERY_STRING_PARAMETERS\n",
    "    )\n",
    "    alt_drugs = information()  \n",
    "    for i in range(len(json.loads(response['Body'])['results'])):\n",
    "        temp_list = json.loads(response['Body'])['results'][i]['products']\n",
    "        for j in range(len(temp_list)):\n",
    "            alt_drugs.add(temp_list[j]['brand_name'], temp_list[j]['active_ingredients'])\n",
    "    return alt_drugs"
   ]
  },
  {
   "cell_type": "code",
   "execution_count": 6,
   "id": "7aae1b82",
   "metadata": {},
   "outputs": [],
   "source": [
    "drug_name = \"Amoxicillin\""
   ]
  },
  {
   "cell_type": "code",
   "execution_count": 7,
   "id": "dbbaaf1d",
   "metadata": {},
   "outputs": [
    {
     "data": {
      "text/plain": [
       "{'VOQUEZNA DUAL PAK': [{'name': 'AMOXICILLIN', 'strength': '500MG'},\n",
       "  {'name': 'VONOPRAZAN FUMARATE', 'strength': 'EQ 20MG BASE'}],\n",
       " 'AMOXICILLIN': [{'name': 'AMOXICILLIN', 'strength': '500MG'}],\n",
       " 'VOQUEZNA TRIPLE PAK': [{'name': 'AMOXICILLIN', 'strength': '500MG'},\n",
       "  {'name': 'CLARITHROMYCIN', 'strength': '500MG'},\n",
       "  {'name': 'VONOPRAZAN FUMARATE', 'strength': 'EQ 20MG BASE'}],\n",
       " 'TRIMOX': [{'name': 'AMOXICILLIN', 'strength': '250MG'}],\n",
       " \"AUGMENTIN '125'\": [{'name': 'AMOXICILLIN', 'strength': '125MG'},\n",
       "  {'name': 'CLAVULANATE POTASSIUM',\n",
       "   'strength': 'EQ 31.25MG BASE **Federal Register determination that product was not discontinued or withdrawn for safety or effectiveness reasons**'}],\n",
       " \"AUGMENTIN '250'\": [{'name': 'AMOXICILLIN', 'strength': '250MG'},\n",
       "  {'name': 'CLAVULANATE POTASSIUM',\n",
       "   'strength': 'EQ 62.5MG BASE **Federal Register determination that product was not discontinued or withdrawn for safety or effectiveness reasons**'}],\n",
       " 'UTIMOX': [{'name': 'AMOXICILLIN', 'strength': '125MG/5ML'}],\n",
       " 'WYMOX': [{'name': 'AMOXICILLIN', 'strength': '500MG'}]}"
      ]
     },
     "execution_count": 7,
     "metadata": {},
     "output_type": "execute_result"
    }
   ],
   "source": [
    "drugs_alternative(drug_name)"
   ]
  },
  {
   "cell_type": "code",
   "execution_count": null,
   "id": "a65af0cf",
   "metadata": {},
   "outputs": [],
   "source": []
  }
 ],
 "metadata": {
  "kernelspec": {
   "display_name": "Python 3 (ipykernel)",
   "language": "python",
   "name": "python3"
  },
  "language_info": {
   "codemirror_mode": {
    "name": "ipython",
    "version": 3
   },
   "file_extension": ".py",
   "mimetype": "text/x-python",
   "name": "python",
   "nbconvert_exporter": "python",
   "pygments_lexer": "ipython3",
   "version": "3.9.13"
  }
 },
 "nbformat": 4,
 "nbformat_minor": 5
}
