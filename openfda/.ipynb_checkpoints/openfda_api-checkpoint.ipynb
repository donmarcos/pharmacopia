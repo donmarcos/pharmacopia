{
 "cells": [
  {
   "cell_type": "code",
   "execution_count": 1,
   "metadata": {
    "id": "k0kgDwUInVhU"
   },
   "outputs": [],
   "source": [
    "import requests\n",
    "import json"
   ]
  },
  {
   "cell_type": "code",
   "execution_count": 2,
   "metadata": {
    "id": "XWl1bEaqmm4W"
   },
   "outputs": [],
   "source": [
    "drug_name = 'Amoxicillin' #Fetch drug name from prescription (EXAMPLE LEVOSIZ 5MG SHOULD BE PUT AS LEVOSIZ-5 IN QUERY)\n",
    "drug_fda = 'https://api.fda.gov/drug/drugsfda.json?search={}&limit=1'\n",
    "drug_label = 'https://api.fda.gov/drug/label.json?search={}&limit=1'\n",
    "drug_ndc = 'https://api.fda.gov/drug/ndc.json?search={}&limit=1' \n",
    "drug_enforcement = 'https://api.fda.gov/drug/enforcement.json?search={}&limit=1'"
   ]
  },
  {
   "cell_type": "code",
   "execution_count": 3,
   "metadata": {
    "id": "7WpQ3gKve646"
   },
   "outputs": [],
   "source": [
    "def clean_text(text):\n",
    "  bad_chars = [';', ':', '!', \"*\",'[','\"','\\n',']']\n",
    "  for i in bad_chars:\n",
    "    text = text.replace(i, '')\n",
    "  return text"
   ]
  },
  {
   "cell_type": "code",
   "execution_count": 4,
   "metadata": {
    "id": "aCbTtnJrnk_v"
   },
   "outputs": [],
   "source": [
    "#finding drug unique number\n",
    "def unique_number(drug_name):\n",
    "  url = \"https://api.fda.gov/drug/drugsfda.json?search={}&limit=1\".format(drug_name.upper())\n",
    "  response = requests.get(url)\n",
    "  unique_number = response.json()['results'][0]['openfda']['unii'][0]\n",
    "  return unique_number"
   ]
  },
  {
   "cell_type": "code",
   "execution_count": 5,
   "metadata": {
    "id": "BGm_JhLAoK_R"
   },
   "outputs": [],
   "source": [
    "def general_information(unique_number,drug_fda):\n",
    "  query = drug_fda.format(unique_number)\n",
    "  response = requests.get(query)\n",
    "  generic_name = json.dumps(response.json()['results'][0]['openfda']['generic_name'])\n",
    "  route = json.dumps(response.json()['results'][0]['openfda']['route'])\n",
    "  substance_name = json.dumps(response.json()['results'][0]['openfda']['substance_name'])\n",
    "  dosage_form = json.dumps(response.json()['results'][0]['products'][0]['dosage_form'])\n",
    "  json_object = json.dumps(response.json()['results'][0]['products'][0]['active_ingredients'])\n",
    "  for name in range(len(json.loads(json_object))):\n",
    "    active_ingredients = json.loads(json_object)[name]['name']\n",
    "  \n",
    "  return generic_name, route, substance_name, dosage_form, active_ingredients\n"
   ]
  },
  {
   "cell_type": "code",
   "execution_count": 6,
   "metadata": {
    "id": "Eyr0DjOwpsX7"
   },
   "outputs": [],
   "source": [
    "def specific_information(unique_number,drug_label):\n",
    "  query = drug_label.format(unique_number)\n",
    "  response = requests.get(query)\n",
    "  adverse_reactions = json.dumps(response.json()['results'][0]['adverse_reactions'])\n",
    "  contraindications = json.dumps(response.json()['results'][0]['contraindications'])\n",
    "  information_for_patients = json.dumps(response.json()['results'][0]['information_for_patients'])\n",
    "  warnings_and_cautions = json.dumps(response.json()['results'][0]['warnings_and_cautions'])\n",
    "\n",
    "  return adverse_reactions, contraindications, information_for_patients, warnings_and_cautions\n"
   ]
  },
  {
   "cell_type": "code",
   "execution_count": 7,
   "metadata": {
    "id": "gIPfH3m0nJWd"
   },
   "outputs": [],
   "source": [
    "def pharm_class(unique_number,drug_ndc):\n",
    "  query = drug_ndc.format(unique_number)\n",
    "  response = requests.get(query)\n",
    "  pharm_class = json.loads(json.dumps(response.json()['results'][0]['pharm_class']))\n",
    "  \n",
    "  return pharm_class"
   ]
  },
  {
   "cell_type": "code",
   "execution_count": 8,
   "metadata": {
    "id": "iTjscmZUnO6T"
   },
   "outputs": [],
   "source": [
    "def recall_information(unique_number,drug_enforcement):\n",
    "  query = drug_enforcement.format(unique_number)\n",
    "  response = requests.get(query)\n",
    "  country = json.loads(json.dumps(response.json()['results'][0]['country']))\n",
    "  reason_for_recall = json.loads(json.dumps(response.json()['results'][0]['reason_for_recall']))\n",
    "  return country, reason_for_recall"
   ]
  },
  {
   "cell_type": "code",
   "execution_count": 9,
   "metadata": {
    "id": "pB9QmeyinUav"
   },
   "outputs": [
    {
     "ename": "KeyError",
     "evalue": "'openfda'",
     "output_type": "error",
     "traceback": [
      "\u001b[0;31m---------------------------------------------------------------------------\u001b[0m",
      "\u001b[0;31mKeyError\u001b[0m                                  Traceback (most recent call last)",
      "Input \u001b[0;32mIn [9]\u001b[0m, in \u001b[0;36m<cell line: 1>\u001b[0;34m()\u001b[0m\n\u001b[0;32m----> 1\u001b[0m unique_number \u001b[38;5;241m=\u001b[39m \u001b[43munique_number\u001b[49m\u001b[43m(\u001b[49m\u001b[43mdrug_name\u001b[49m\u001b[43m)\u001b[49m\n\u001b[1;32m      2\u001b[0m generic_name, route, substance_name, dosage_form, active_ingredients \u001b[38;5;241m=\u001b[39m general_information(unique_number,drug_fda)\n\u001b[1;32m      3\u001b[0m adverse_reactions, contraindications, information_for_patients, warnings_and_cautions \u001b[38;5;241m=\u001b[39m specific_information(unique_number,drug_label)\n",
      "Input \u001b[0;32mIn [4]\u001b[0m, in \u001b[0;36munique_number\u001b[0;34m(drug_name)\u001b[0m\n\u001b[1;32m      3\u001b[0m url \u001b[38;5;241m=\u001b[39m \u001b[38;5;124m\"\u001b[39m\u001b[38;5;124mhttps://api.fda.gov/drug/drugsfda.json?search=\u001b[39m\u001b[38;5;132;01m{}\u001b[39;00m\u001b[38;5;124m&limit=1\u001b[39m\u001b[38;5;124m\"\u001b[39m\u001b[38;5;241m.\u001b[39mformat(drug_name\u001b[38;5;241m.\u001b[39mupper())\n\u001b[1;32m      4\u001b[0m response \u001b[38;5;241m=\u001b[39m requests\u001b[38;5;241m.\u001b[39mget(url)\n\u001b[0;32m----> 5\u001b[0m unique_number \u001b[38;5;241m=\u001b[39m \u001b[43mresponse\u001b[49m\u001b[38;5;241;43m.\u001b[39;49m\u001b[43mjson\u001b[49m\u001b[43m(\u001b[49m\u001b[43m)\u001b[49m\u001b[43m[\u001b[49m\u001b[38;5;124;43m'\u001b[39;49m\u001b[38;5;124;43mresults\u001b[39;49m\u001b[38;5;124;43m'\u001b[39;49m\u001b[43m]\u001b[49m\u001b[43m[\u001b[49m\u001b[38;5;241;43m0\u001b[39;49m\u001b[43m]\u001b[49m\u001b[43m[\u001b[49m\u001b[38;5;124;43m'\u001b[39;49m\u001b[38;5;124;43mopenfda\u001b[39;49m\u001b[38;5;124;43m'\u001b[39;49m\u001b[43m]\u001b[49m[\u001b[38;5;124m'\u001b[39m\u001b[38;5;124munii\u001b[39m\u001b[38;5;124m'\u001b[39m][\u001b[38;5;241m0\u001b[39m]\n\u001b[1;32m      6\u001b[0m \u001b[38;5;28;01mreturn\u001b[39;00m unique_number\n",
      "\u001b[0;31mKeyError\u001b[0m: 'openfda'"
     ]
    }
   ],
   "source": [
    "unique_number = unique_number(drug_name)\n",
    "generic_name, route, substance_name, dosage_form, active_ingredients = general_information(unique_number,drug_fda)\n",
    "adverse_reactions, contraindications, information_for_patients, warnings_and_cautions = specific_information(unique_number,drug_label)\n",
    "pharm_cl = pharm_class(unique_number,drug_ndc)\n",
    "country, reason_for_recall = recall_information(unique_number,drug_enforcement)"
   ]
  },
  {
   "cell_type": "code",
   "execution_count": null,
   "metadata": {
    "id": "Up31G5TKxYF7"
   },
   "outputs": [],
   "source": [
    "class information(dict):\n",
    "\n",
    "  def __init__(self):\n",
    "    self = dict()\n",
    "\n",
    "  def add(self, key, value):\n",
    "    self[key] = value"
   ]
  },
  {
   "cell_type": "code",
   "execution_count": null,
   "metadata": {
    "id": "oM8DFr-6YHG2"
   },
   "outputs": [],
   "source": [
    "#Possible insights\n",
    "insights = information()\n",
    "insights.add('generic_name', generic_name)\n",
    "insights.add('route', route)\n",
    "insights.add('substance_name', substance_name)\n",
    "insights.add('dosage_form', dosage_form)\n",
    "insights.add('active_ingredients', active_ingredients)\n",
    "insights.add('information_for_patients',information_for_patients)\n",
    "insights.add('pharm_cl',pharm_cl)\n",
    "insights.add('recall_information',recall_information)"
   ]
  },
  {
   "cell_type": "code",
   "execution_count": 10,
   "metadata": {
    "colab": {
     "base_uri": "https://localhost:8080/"
    },
    "id": "1KG9Xd8D8Jpg",
    "outputId": "b56f3902-fd86-4e3c-de33-324237c0b91e"
   },
   "outputs": [
    {
     "ename": "NameError",
     "evalue": "name 'insights' is not defined",
     "output_type": "error",
     "traceback": [
      "\u001b[0;31m---------------------------------------------------------------------------\u001b[0m",
      "\u001b[0;31mNameError\u001b[0m                                 Traceback (most recent call last)",
      "Input \u001b[0;32mIn [10]\u001b[0m, in \u001b[0;36m<cell line: 1>\u001b[0;34m()\u001b[0m\n\u001b[0;32m----> 1\u001b[0m \u001b[43minsights\u001b[49m\n",
      "\u001b[0;31mNameError\u001b[0m: name 'insights' is not defined"
     ]
    }
   ],
   "source": [
    "insights"
   ]
  },
  {
   "cell_type": "code",
   "execution_count": 13,
   "metadata": {
    "id": "ehc-9JRRadhN"
   },
   "outputs": [],
   "source": [
    "#Side effects and warnings\n",
    "warning = information()\n",
    "warning.add('adverse_reactions', adverse_reactions)\n",
    "warning.add('contraindications', contraindications)\n",
    "warning.add('warnings_and_cautions', warnings_and_cautions)"
   ]
  },
  {
   "cell_type": "code",
   "execution_count": 14,
   "metadata": {
    "colab": {
     "base_uri": "https://localhost:8080/"
    },
    "id": "J2yvzrh4DivO",
    "outputId": "ab6f0c99-b0aa-4973-89c9-061c297c1c58"
   },
   "outputs": [
    {
     "data": {
      "text/plain": [
       "{'adverse_reactions': '[\"6 ADVERSE REACTIONS The following are discussed in more detail in other sections of the labeling: Anaphylactic reactions [see Warnings and Precautions (5.1) ] CDAD [see Warnings and Precautions (5.2) ] The most common adverse reactions (> 1%) observed in clinical trials of amoxicillin capsules, tablets or oral suspension were diarrhea, rash, vomiting, and nausea. (6.1) To report SUSPECTED ADVERSE REACTIONS, contact Aurobindo Pharma USA, Inc. at 1-866-850-2876 or FDA at 1-800-FDA-1088 or www.fda.gov/medwatch . 6.1 Clinical Trials Experience Because clinical trials are conducted under widely varying conditions, adverse reaction rates observed in the clinical trials of a drug cannot be directly compared to rates in the clinical trials of another drug and may not reflect the rates observed in practice. The most common adverse reactions (> 1%) observed in clinical trials of amoxicillin capsules, tablets or oral suspension were diarrhea, rash, vomiting, and nausea. Triple therapy: The most frequently reported adverse events for patients who received triple therapy (amoxicillin/clarithromycin/lansoprazole) were diarrhea (7%), headache (6%), and taste perversion (5%). Dual therapy: The most frequently reported adverse events for patients who received double therapy amoxicillin/lansoprazole were diarrhea (8%) and headache (7%). For more information on adverse reactions with clarithromycin or lansoprazole, refer to the Adverse Reactions section of their package inserts. 6.2 Postmarketing or Other Experience In addition to adverse events reported from clinical trials, the following events have been identified during postmarketing use of penicillins. Because they are reported voluntarily from a population of unknown size, estimates of frequency cannot be made. These events have been chosen for inclusion due to a combination of their seriousness, frequency of reporting, or potential causal connection to amoxicillin. Infections and Infestations: Mucocutaneous candidiasis. Gastrointestinal: Black hairy tongue, and hemorrhagic/pseudomembranous colitis. Onset of pseudomembranous colitis symptoms may occur during or after antibacterial treatment [see Warnings and Precautions (5.2) ] . Hypersensitivity Reactions: Anaphylaxis [see Warnings and Precautions (5.1) ] . Serum sickness\\\\u2013like reactions, erythematous maculopapular rashes, erythema multiforme, Stevens-Johnson syndrome, exfoliative dermatitis, toxic epidermal necrolysis, acute generalized exanthematous pustulosis, hypersensitivity vasculitis, and urticaria have been reported . Liver: A moderate rise in AST and/or ALT has been noted, but the significance of this finding is unknown. Hepatic dysfunction including cholestatic jaundice, hepatic cholestasis and acute cytolytic hepatitis have been reported . Renal: Crystalluria has been reported [see Overdosage (10) ] . Hemic and Lymphatic Systems: Anemia, including hemolytic anemia, thrombocytopenia, thrombocytopenic purpura, eosinophilia, leukopenia, and agranulocytosis have been reported . These reactions are usually reversible on discontinuation of therapy and are believed to be hypersensitivity phenomena. Central Nervous System: Reversible hyperactivity, agitation, anxiety, insomnia, confusion, convulsions, behavioral changes, and/or dizziness have been reported . Miscellaneous: Tooth discoloration (brown, yellow, or gray staining) has been reported . Most reports occurred in pediatric patients. Discoloration was reduced or eliminated with brushing or dental cleaning in most cases.\"]',\n",
       " 'contraindications': '[\"4 CONTRAINDICATIONS Amoxicillin tablets are contraindicated in patients who have experienced a serious hypersensitivity reaction (e.g., anaphylaxis or Stevens-Johnson syndrome) to amoxicillin tablets or to other \\\\u03b2-lactam antibiotics (e.g., penicillins and cephalosporins). History of a serious hypersensitivity reaction (e.g., anaphylaxis or Stevens-Johnson syndrome) to amoxicillin tablets or to other beta-lactams (e.g., penicillins or cephalosporins). (4)\"]',\n",
       " 'warnings_and_cautions': '[\"5 WARNINGS AND PRECAUTIONS Anaphylactic reactions: Serious and occasionally fatal anaphylactic reactions have been reported in patients on penicillin therapy. Serious anaphylactic reactions require immediate emergency treatment with supportive measures. (5.1) Clostridium difficile - associated diarrhea (ranging from mild diarrhea to fatal colitis): Evaluate if diarrhea occurs. (5.2) 5.1 Anaphylactic Reactions Serious and occasionally fatal hypersensitivity (anaphylactic) reactions have been reported in patients on penicillin therapy including amoxicillin. Although anaphylaxis is more frequent following parenteral therapy, it has occurred in patients on oral penicillins. These reactions are more likely to occur in individuals with a history of penicillin hypersensitivity and/or a history of sensitivity to multiple allergens. There have been reports of individuals with a history of penicillin hypersensitivity who have experienced severe reactions when treated with cephalosporins. Before initiating therapy with amoxicillin, careful inquiry should be made regarding previous hypersensitivity reactions to penicillins, cephalosporins, or other allergens. If an allergic reaction occurs, amoxicillin should be discontinued and appropriate therapy instituted. 5.2 Clostridium difficile Associated Diarrhea Clostridium difficile associated diarrhea (CDAD) has been reported with use of nearly all antibacterial agents, including amoxicillin, and may range in severity from mild diarrhea to fatal colitis. Treatment with antibacterial agents alters the normal flora of the colon leading to overgrowth of C. difficile. C. difficile produces toxins A and B which contribute to the development of CDAD. Hypertoxin-producing strains of C. difficile cause increased morbidity and mortality, as these infections can be refractory to antimicrobial therapy and may require colectomy. CDAD must be considered in all patients who present with diarrhea following antibacterial use. Careful medical history is necessary since CDAD has been reported to occur over 2 months after the administration of antibacterial agents. If CDAD is suspected or confirmed, ongoing antibiotic use not directed against C. difficile may need to be discontinued. Appropriate fluid and electrolyte management, protein supplementation, antibiotic treatment of C. difficile , and surgical evaluation should be instituted as clinically indicated. 5.3 Development of Drug-Resistant Bacteria Prescribing amoxicillin in the absence of a proven or strongly suspected bacterial infection is unlikely to provide benefit to the patient and increases the risk of the development of drug-resistant bacteria. 5.4 Use in Patients With Mononucleosis A high percentage of patients with mononucleosis who receive amoxicillin develop an erythematous skin rash. Thus amoxicillin should not be administered to patients with mononucleosis.\"]'}"
      ]
     },
     "execution_count": 14,
     "metadata": {},
     "output_type": "execute_result"
    }
   ],
   "source": [
    "warning"
   ]
  },
  {
   "cell_type": "code",
   "execution_count": 15,
   "metadata": {
    "id": "hUy2wY2LbGMC"
   },
   "outputs": [],
   "source": [
    "#alternate drug suggestion\n",
    "def alternate_drugs(drug_name,drug_fda):\n",
    "  url = 'https://api.fda.gov/drug/drugsfda.json?search={}&limit=10'.format(drug_name.upper())\n",
    "  response = requests.get(url)\n",
    "  alternate_drugs = information()\n",
    "  for i in range(len(response.json()['results'])):\n",
    "    temp_list = response.json()['results'][i]['products']\n",
    "    for j in range(len(temp_list)):\n",
    "      if(temp_list[j]['marketing_status']!='Discontinued'):\n",
    "        alternate_drugs.add(temp_list[j]['brand_name'], temp_list[j]['active_ingredients'])\n",
    "  return alternate_drugs"
   ]
  },
  {
   "cell_type": "code",
   "execution_count": 16,
   "metadata": {
    "colab": {
     "base_uri": "https://localhost:8080/"
    },
    "id": "itaP3_rpFCem",
    "outputId": "ea1e599a-1a44-4656-e5eb-633e86e17794"
   },
   "outputs": [
    {
     "data": {
      "text/plain": [
       "{'AMOXICILLIN': [{'name': 'AMOXICILLIN', 'strength': '250MG/5ML'}],\n",
       " 'AMOXICILLIN AND CLAVULANATE POTASSIUM': [{'name': 'AMOXICILLIN',\n",
       "   'strength': '875MG'},\n",
       "  {'name': 'CLAVULANATE POTASSIUM', 'strength': 'EQ 125MG BASE'}],\n",
       " 'LANSOPRAZOLE, AMOXICILLIN AND CLARITHROMYCIN (COPACKAGED)': [{'name': 'AMOXICILLIN',\n",
       "   'strength': '500MG'},\n",
       "  {'name': 'CLARITHROMYCIN', 'strength': '500MG'},\n",
       "  {'name': 'LANSOPRAZOLE', 'strength': '30MG'}]}"
      ]
     },
     "execution_count": 16,
     "metadata": {},
     "output_type": "execute_result"
    }
   ],
   "source": [
    "alternate_drugs(drug_name,drug_fda)"
   ]
  },
  {
   "cell_type": "code",
   "execution_count": 17,
   "metadata": {
    "id": "xMniuOuKbnjb"
   },
   "outputs": [],
   "source": [
    "#Contradiction\n",
    "#Possible approach : compare active substances of other drugs with substances in warnings from the drug"
   ]
  }
 ],
 "metadata": {
  "colab": {
   "collapsed_sections": [],
   "provenance": []
  },
  "kernelspec": {
   "display_name": "Python 3 (ipykernel)",
   "language": "python",
   "name": "python3"
  },
  "language_info": {
   "codemirror_mode": {
    "name": "ipython",
    "version": 3
   },
   "file_extension": ".py",
   "mimetype": "text/x-python",
   "name": "python",
   "nbconvert_exporter": "python",
   "pygments_lexer": "ipython3",
   "version": "3.9.13"
  }
 },
 "nbformat": 4,
 "nbformat_minor": 1
}
