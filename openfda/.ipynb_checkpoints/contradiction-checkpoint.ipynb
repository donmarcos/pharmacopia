{
 "cells": [
  {
   "cell_type": "markdown",
   "metadata": {
    "id": "e9rAXIlKr-Wl"
   },
   "source": [
    "## **Logic for finding CONTRADICTIONS between 2 drugs**\n",
    "###We find drug interactions for each drug apply NLP and compare it with active components of each other"
   ]
  },
  {
   "cell_type": "code",
   "execution_count": null,
   "metadata": {
    "colab": {
     "base_uri": "https://localhost:8080/"
    },
    "id": "dAF3E_CKwmJS",
    "outputId": "f27fe016-5ea6-4a2f-c9ae-5aff2f69bd9e"
   },
   "outputs": [
    {
     "name": "stdout",
     "output_type": "stream",
     "text": [
      "\u001b[33mDEPRECATION: Configuring installation scheme with distutils config files is deprecated and will no longer work in the near future. If you are using a Homebrew or Linuxbrew Python, please see discussion at https://github.com/Homebrew/homebrew-core/issues/76621\u001b[0m\u001b[33m\n",
      "\u001b[0mCollecting scispacy\n",
      "  Downloading scispacy-0.5.1-py3-none-any.whl (44 kB)\n",
      "\u001b[2K     \u001b[90m━━━━━━━━━━━━━━━━━━━━━━━━━━━━━━━━━━━━━━━\u001b[0m \u001b[32m44.9/44.9 kB\u001b[0m \u001b[31m827.6 kB/s\u001b[0m eta \u001b[36m0:00:00\u001b[0m \u001b[36m0:00:01\u001b[0m\n",
      "\u001b[?25hCollecting joblib\n",
      "  Downloading joblib-1.2.0-py3-none-any.whl (297 kB)\n",
      "\u001b[2K     \u001b[90m━━━━━━━━━━━━━━━━━━━━━━━━━━━━━━━━━━━━━━━\u001b[0m \u001b[32m298.0/298.0 kB\u001b[0m \u001b[31m3.3 MB/s\u001b[0m eta \u001b[36m0:00:00\u001b[0m00:01\u001b[0m00:01\u001b[0m\n",
      "\u001b[?25hRequirement already satisfied: numpy in /opt/homebrew/lib/python3.9/site-packages (from scispacy) (1.23.0)\n",
      "Collecting pysbd\n",
      "  Downloading pysbd-0.3.4-py3-none-any.whl (71 kB)\n",
      "\u001b[2K     \u001b[90m━━━━━━━━━━━━━━━━━━━━━━━━━━━━━━━━━━━━━━━━\u001b[0m \u001b[32m71.1/71.1 kB\u001b[0m \u001b[31m2.5 MB/s\u001b[0m eta \u001b[36m0:00:00\u001b[0m\n",
      "\u001b[?25hRequirement already satisfied: requests<3.0.0,>=2.0.0 in /opt/homebrew/lib/python3.9/site-packages (from scispacy) (2.28.1)\n",
      "Collecting conllu\n",
      "  Downloading conllu-4.5.2-py2.py3-none-any.whl (16 kB)\n",
      "Collecting scikit-learn>=0.20.3\n",
      "  Downloading scikit-learn-1.1.3.tar.gz (7.0 MB)\n",
      "\u001b[2K     \u001b[90m━━━━━━━━━━━━━━━━━━━━━━━━━━━━━━━━━━━━━━━━\u001b[0m \u001b[32m7.0/7.0 MB\u001b[0m \u001b[31m4.8 MB/s\u001b[0m eta \u001b[36m0:00:00\u001b[0m00:01\u001b[0m00:01\u001b[0m\n",
      "\u001b[?25h  Installing build dependencies ... \u001b[?25lerror\n",
      "  \u001b[1;31merror\u001b[0m: \u001b[1msubprocess-exited-with-error\u001b[0m\n",
      "  \n",
      "  \u001b[31m×\u001b[0m \u001b[32mpip subprocess to install build dependencies\u001b[0m did not run successfully.\n",
      "  \u001b[31m│\u001b[0m exit code: \u001b[1;36m1\u001b[0m\n",
      "  \u001b[31m╰─>\u001b[0m \u001b[31m[102 lines of output]\u001b[0m\n",
      "  \u001b[31m   \u001b[0m Ignoring numpy: markers 'python_version == \"3.10\" and platform_system == \"Windows\" and platform_python_implementation != \"PyPy\"' don't match your environment\n",
      "  \u001b[31m   \u001b[0m Collecting setuptools<60.0\n",
      "  \u001b[31m   \u001b[0m   Using cached setuptools-59.8.0-py3-none-any.whl (952 kB)\n",
      "  \u001b[31m   \u001b[0m Collecting wheel\n",
      "  \u001b[31m   \u001b[0m   Downloading wheel-0.38.4-py3-none-any.whl (36 kB)\n",
      "  \u001b[31m   \u001b[0m Collecting Cython>=0.28.5\n",
      "  \u001b[31m   \u001b[0m   Using cached Cython-0.29.32-py2.py3-none-any.whl (986 kB)\n",
      "  \u001b[31m   \u001b[0m Collecting oldest-supported-numpy\n",
      "  \u001b[31m   \u001b[0m   Using cached oldest_supported_numpy-2022.8.16-py3-none-any.whl (3.9 kB)\n",
      "  \u001b[31m   \u001b[0m Collecting scipy>=1.3.2\n",
      "  \u001b[31m   \u001b[0m   Downloading scipy-1.9.3.tar.gz (42.1 MB)\n",
      "  \u001b[31m   \u001b[0m      ━━━━━━━━━━━━━━━━━━━━━━━━━━━━━━━━━━━━━━━━ 42.1/42.1 MB 5.3 MB/s eta 0:00:00\n",
      "  \u001b[31m   \u001b[0m   Installing build dependencies: started\n",
      "  \u001b[31m   \u001b[0m   Installing build dependencies: finished with status 'done'\n",
      "  \u001b[31m   \u001b[0m   Getting requirements to build wheel: started\n",
      "  \u001b[31m   \u001b[0m   Getting requirements to build wheel: finished with status 'error'\n",
      "  \u001b[31m   \u001b[0m   error: subprocess-exited-with-error\n",
      "  \u001b[31m   \u001b[0m \n",
      "  \u001b[31m   \u001b[0m   × Getting requirements to build wheel did not run successfully.\n",
      "  \u001b[31m   \u001b[0m   │ exit code: 1\n",
      "  \u001b[31m   \u001b[0m   ╰─> [68 lines of output]\n",
      "  \u001b[31m   \u001b[0m       The Meson build system\n",
      "  \u001b[31m   \u001b[0m       Version: 0.64.0\n",
      "  \u001b[31m   \u001b[0m       Source dir: /private/var/folders/42/qy5gwrdn6k1d3q44k348hxgh0000gn/T/pip-install-owm6jw5e/scipy_028cbb72490e460c9add550480efd84b\n",
      "  \u001b[31m   \u001b[0m       Build dir: /private/var/folders/42/qy5gwrdn6k1d3q44k348hxgh0000gn/T/pip-install-owm6jw5e/scipy_028cbb72490e460c9add550480efd84b/.mesonpy-s6rn3suw/build\n",
      "  \u001b[31m   \u001b[0m       Build type: native build\n",
      "  \u001b[31m   \u001b[0m       Project name: SciPy\n",
      "  \u001b[31m   \u001b[0m       Project version: 1.9.3\n",
      "  \u001b[31m   \u001b[0m       C compiler for the host machine: cc (clang 12.0.5 \"Apple clang version 12.0.5 (clang-1205.0.22.11)\")\n",
      "  \u001b[31m   \u001b[0m       C linker for the host machine: cc ld64 650.9\n",
      "  \u001b[31m   \u001b[0m       C++ compiler for the host machine: c++ (clang 12.0.5 \"Apple clang version 12.0.5 (clang-1205.0.22.11)\")\n",
      "  \u001b[31m   \u001b[0m       C++ linker for the host machine: c++ ld64 650.9\n",
      "  \u001b[31m   \u001b[0m       Host machine cpu family: aarch64\n",
      "  \u001b[31m   \u001b[0m       Host machine cpu: aarch64\n",
      "  \u001b[31m   \u001b[0m       Compiler for C supports arguments -Wno-unused-but-set-variable: NO\n",
      "  \u001b[31m   \u001b[0m       Compiler for C supports arguments -Wno-unused-but-set-variable: NO (cached)\n",
      "  \u001b[31m   \u001b[0m       Compiler for C supports arguments -Wno-unused-function: YES\n",
      "  \u001b[31m   \u001b[0m       Compiler for C supports arguments -Wno-conversion: YES\n",
      "  \u001b[31m   \u001b[0m       Compiler for C supports arguments -Wno-misleading-indentation: YES\n",
      "  \u001b[31m   \u001b[0m       Compiler for C supports arguments -Wno-incompatible-pointer-types: YES\n",
      "  \u001b[31m   \u001b[0m       Library m found: YES\n",
      "  \u001b[31m   \u001b[0m       Fortran compiler for the host machine: gfortran (gcc 11.3.0 \"GNU Fortran (Homebrew GCC 11.3.0_2) 11.3.0\")\n",
      "  \u001b[31m   \u001b[0m       Fortran linker for the host machine: gfortran ld64 650.9\n",
      "  \u001b[31m   \u001b[0m       Compiler for Fortran supports arguments -Wno-conversion: YES\n",
      "  \u001b[31m   \u001b[0m       Program cython found: YES (/private/var/folders/42/qy5gwrdn6k1d3q44k348hxgh0000gn/T/pip-build-env-x_7ibf0f/overlay/bin/cython)\n",
      "  \u001b[31m   \u001b[0m       Program pythran found: YES (/private/var/folders/42/qy5gwrdn6k1d3q44k348hxgh0000gn/T/pip-build-env-x_7ibf0f/overlay/bin/pythran)\n",
      "  \u001b[31m   \u001b[0m       Program cp found: YES (/bin/cp)\n",
      "  \u001b[31m   \u001b[0m       Program python found: YES (/opt/homebrew/Cellar/python@3.9/3.9.13_1/bin/python3.9)\n",
      "  \u001b[31m   \u001b[0m       Found pkg-config: /opt/homebrew/bin/pkg-config (0.29.2)\n",
      "  \u001b[31m   \u001b[0m       Run-time dependency threads found: YES\n",
      "  \u001b[31m   \u001b[0m       Library npymath found: YES\n",
      "  \u001b[31m   \u001b[0m       Library npyrandom found: YES\n",
      "  \u001b[31m   \u001b[0m       Did not find CMake 'cmake'\n",
      "  \u001b[31m   \u001b[0m       Found CMake: NO\n",
      "  \u001b[31m   \u001b[0m       Run-time dependency openblas found: NO (tried pkgconfig, framework and cmake)\n",
      "  \u001b[31m   \u001b[0m       Run-time dependency openblas found: NO (tried pkgconfig and framework)\n",
      "  \u001b[31m   \u001b[0m \n",
      "  \u001b[31m   \u001b[0m       ../../scipy/meson.build:131:0: ERROR: Dependency \"OpenBLAS\" not found, tried pkgconfig and framework\n",
      "  \u001b[31m   \u001b[0m \n",
      "  \u001b[31m   \u001b[0m       A full log can be found at /private/var/folders/42/qy5gwrdn6k1d3q44k348hxgh0000gn/T/pip-install-owm6jw5e/scipy_028cbb72490e460c9add550480efd84b/.mesonpy-s6rn3suw/build/meson-logs/meson-log.txt\n",
      "  \u001b[31m   \u001b[0m       + meson setup --native-file=/private/var/folders/42/qy5gwrdn6k1d3q44k348hxgh0000gn/T/pip-install-owm6jw5e/scipy_028cbb72490e460c9add550480efd84b/.mesonpy-native-file.ini -Ddebug=false -Doptimization=2 --prefix=/opt/homebrew/Cellar/python@3.9/3.9.13_1/Frameworks/Python.framework/Versions/3.9 /private/var/folders/42/qy5gwrdn6k1d3q44k348hxgh0000gn/T/pip-install-owm6jw5e/scipy_028cbb72490e460c9add550480efd84b /private/var/folders/42/qy5gwrdn6k1d3q44k348hxgh0000gn/T/pip-install-owm6jw5e/scipy_028cbb72490e460c9add550480efd84b/.mesonpy-s6rn3suw/build\n",
      "  \u001b[31m   \u001b[0m       Traceback (most recent call last):\n",
      "  \u001b[31m   \u001b[0m         File \"/opt/homebrew/lib/python3.9/site-packages/pip/_vendor/pep517/in_process/_in_process.py\", line 363, in <module>\n",
      "  \u001b[31m   \u001b[0m           main()\n",
      "  \u001b[31m   \u001b[0m         File \"/opt/homebrew/lib/python3.9/site-packages/pip/_vendor/pep517/in_process/_in_process.py\", line 345, in main\n",
      "  \u001b[31m   \u001b[0m           json_out['return_val'] = hook(**hook_input['kwargs'])\n",
      "  \u001b[31m   \u001b[0m         File \"/opt/homebrew/lib/python3.9/site-packages/pip/_vendor/pep517/in_process/_in_process.py\", line 130, in get_requires_for_build_wheel\n",
      "  \u001b[31m   \u001b[0m           return hook(config_settings)\n",
      "  \u001b[31m   \u001b[0m         File \"/private/var/folders/42/qy5gwrdn6k1d3q44k348hxgh0000gn/T/pip-build-env-x_7ibf0f/overlay/lib/python3.9/site-packages/mesonpy/__init__.py\", line 969, in get_requires_for_build_wheel\n",
      "  \u001b[31m   \u001b[0m           with _project(config_settings) as project:\n",
      "  \u001b[31m   \u001b[0m         File \"/opt/homebrew/Cellar/python@3.9/3.9.13_1/Frameworks/Python.framework/Versions/3.9/lib/python3.9/contextlib.py\", line 119, in __enter__\n",
      "  \u001b[31m   \u001b[0m           return next(self.gen)\n",
      "  \u001b[31m   \u001b[0m         File \"/private/var/folders/42/qy5gwrdn6k1d3q44k348hxgh0000gn/T/pip-build-env-x_7ibf0f/overlay/lib/python3.9/site-packages/mesonpy/__init__.py\", line 948, in _project\n",
      "  \u001b[31m   \u001b[0m           with Project.with_temp_working_dir(\n",
      "  \u001b[31m   \u001b[0m         File \"/opt/homebrew/Cellar/python@3.9/3.9.13_1/Frameworks/Python.framework/Versions/3.9/lib/python3.9/contextlib.py\", line 119, in __enter__\n",
      "  \u001b[31m   \u001b[0m           return next(self.gen)\n",
      "  \u001b[31m   \u001b[0m         File \"/private/var/folders/42/qy5gwrdn6k1d3q44k348hxgh0000gn/T/pip-build-env-x_7ibf0f/overlay/lib/python3.9/site-packages/mesonpy/__init__.py\", line 777, in with_temp_working_dir\n",
      "  \u001b[31m   \u001b[0m           yield cls(source_dir, tmpdir, build_dir)\n",
      "  \u001b[31m   \u001b[0m         File \"/private/var/folders/42/qy5gwrdn6k1d3q44k348hxgh0000gn/T/pip-build-env-x_7ibf0f/overlay/lib/python3.9/site-packages/mesonpy/__init__.py\", line 682, in __init__\n",
      "  \u001b[31m   \u001b[0m           self._configure(reconfigure=bool(build_dir) and not native_file_mismatch)\n",
      "  \u001b[31m   \u001b[0m         File \"/private/var/folders/42/qy5gwrdn6k1d3q44k348hxgh0000gn/T/pip-build-env-x_7ibf0f/overlay/lib/python3.9/site-packages/mesonpy/__init__.py\", line 713, in _configure\n",
      "  \u001b[31m   \u001b[0m           self._meson(\n",
      "  \u001b[31m   \u001b[0m         File \"/private/var/folders/42/qy5gwrdn6k1d3q44k348hxgh0000gn/T/pip-build-env-x_7ibf0f/overlay/lib/python3.9/site-packages/mesonpy/__init__.py\", line 696, in _meson\n",
      "  \u001b[31m   \u001b[0m           return self._proc('meson', *args)\n",
      "  \u001b[31m   \u001b[0m         File \"/private/var/folders/42/qy5gwrdn6k1d3q44k348hxgh0000gn/T/pip-build-env-x_7ibf0f/overlay/lib/python3.9/site-packages/mesonpy/__init__.py\", line 691, in _proc\n",
      "  \u001b[31m   \u001b[0m           subprocess.check_call(list(args))\n",
      "  \u001b[31m   \u001b[0m         File \"/opt/homebrew/Cellar/python@3.9/3.9.13_1/Frameworks/Python.framework/Versions/3.9/lib/python3.9/subprocess.py\", line 373, in check_call\n",
      "  \u001b[31m   \u001b[0m           raise CalledProcessError(retcode, cmd)\n",
      "  \u001b[31m   \u001b[0m       subprocess.CalledProcessError: Command '['meson', 'setup', '--native-file=/private/var/folders/42/qy5gwrdn6k1d3q44k348hxgh0000gn/T/pip-install-owm6jw5e/scipy_028cbb72490e460c9add550480efd84b/.mesonpy-native-file.ini', '-Ddebug=false', '-Doptimization=2', '--prefix=/opt/homebrew/Cellar/python@3.9/3.9.13_1/Frameworks/Python.framework/Versions/3.9', '/private/var/folders/42/qy5gwrdn6k1d3q44k348hxgh0000gn/T/pip-install-owm6jw5e/scipy_028cbb72490e460c9add550480efd84b', '/private/var/folders/42/qy5gwrdn6k1d3q44k348hxgh0000gn/T/pip-install-owm6jw5e/scipy_028cbb72490e460c9add550480efd84b/.mesonpy-s6rn3suw/build']' returned non-zero exit status 1.\n",
      "  \u001b[31m   \u001b[0m       [end of output]\n",
      "  \u001b[31m   \u001b[0m \n",
      "  \u001b[31m   \u001b[0m   note: This error originates from a subprocess, and is likely not a problem with pip.\n",
      "  \u001b[31m   \u001b[0m error: subprocess-exited-with-error\n",
      "  \u001b[31m   \u001b[0m \n",
      "  \u001b[31m   \u001b[0m × Getting requirements to build wheel did not run successfully.\n",
      "  \u001b[31m   \u001b[0m │ exit code: 1\n",
      "  \u001b[31m   \u001b[0m ╰─> See above for output.\n",
      "  \u001b[31m   \u001b[0m \n",
      "  \u001b[31m   \u001b[0m note: This error originates from a subprocess, and is likely not a problem with pip.\n",
      "  \u001b[31m   \u001b[0m \n",
      "  \u001b[31m   \u001b[0m [notice] A new release of pip available: 22.2.2 -> 22.3.1\n",
      "  \u001b[31m   \u001b[0m [notice] To update, run: python3.9 -m pip install --upgrade pip\n",
      "  \u001b[31m   \u001b[0m \u001b[31m[end of output]\u001b[0m\n",
      "  \n",
      "  \u001b[1;35mnote\u001b[0m: This error originates from a subprocess, and is likely not a problem with pip.\n",
      "\u001b[1;31merror\u001b[0m: \u001b[1msubprocess-exited-with-error\u001b[0m\n",
      "\n",
      "\u001b[31m×\u001b[0m \u001b[32mpip subprocess to install build dependencies\u001b[0m did not run successfully.\n",
      "\u001b[31m│\u001b[0m exit code: \u001b[1;36m1\u001b[0m\n",
      "\u001b[31m╰─>\u001b[0m See above for output.\n",
      "\n",
      "\u001b[1;35mnote\u001b[0m: This error originates from a subprocess, and is likely not a problem with pip.\n",
      "\n",
      "\u001b[1m[\u001b[0m\u001b[34;49mnotice\u001b[0m\u001b[1;39;49m]\u001b[0m\u001b[39;49m A new release of pip available: \u001b[0m\u001b[31;49m22.2.2\u001b[0m\u001b[39;49m -> \u001b[0m\u001b[32;49m22.3.1\u001b[0m\n",
      "\u001b[1m[\u001b[0m\u001b[34;49mnotice\u001b[0m\u001b[1;39;49m]\u001b[0m\u001b[39;49m To update, run: \u001b[0m\u001b[32;49mpython3.9 -m pip install --upgrade pip\u001b[0m\n"
     ]
    },
    {
     "name": "stdout",
     "output_type": "stream",
     "text": [
      "\u001b[?25h\u001b[33mDEPRECATION: Configuring installation scheme with distutils config files is deprecated and will no longer work in the near future. If you are using a Homebrew or Linuxbrew Python, please see discussion at https://github.com/Homebrew/homebrew-core/issues/76621\u001b[0m\u001b[33m\n",
      "\u001b[0mCollecting https://s3-us-west-2.amazonaws.com/ai2-s2-scispacy/releases/v0.5.1/en_core_sci_md-0.5.1.tar.gz\n",
      "  Downloading https://s3-us-west-2.amazonaws.com/ai2-s2-scispacy/releases/v0.5.1/en_core_sci_md-0.5.1.tar.gz (120.2 MB)\n",
      "\u001b[2K     \u001b[91m━━━━━━━━━━━━━━━━━━━━━━\u001b[0m\u001b[90m╺\u001b[0m\u001b[90m━━━━━━━━━━━━━━━━━\u001b[0m \u001b[32m66.7/120.2 MB\u001b[0m \u001b[31m2.0 MB/s\u001b[0m eta \u001b[36m0:00:27\u001b[0m"
     ]
    }
   ],
   "source": [
    "!pip install scispacy\n",
    "!pip install https://s3-us-west-2.amazonaws.com/ai2-s2-scispacy/releases/v0.5.1/en_core_sci_md-0.5.1.tar.gz"
   ]
  },
  {
   "cell_type": "code",
   "execution_count": 2,
   "metadata": {
    "id": "1hXKI-KYxDvL"
   },
   "outputs": [],
   "source": [
    "import spacy\n",
    "import scispacy\n",
    "from scispacy.linking import EntityLinker\n",
    "from scispacy.abbreviation import AbbreviationDetector\n",
    "import json\n",
    "import requests"
   ]
  },
  {
   "cell_type": "code",
   "execution_count": 3,
   "metadata": {
    "id": "oi5TYNSt1dzC"
   },
   "outputs": [],
   "source": [
    "nlp = spacy.load(\"en_core_sci_md\")\n",
    "#nlp.add_pipe(\"scispacy_linker\", config={\"resolve_abbreviations\": True, \"linker_name\": \"umls\"})"
   ]
  },
  {
   "cell_type": "code",
   "execution_count": 4,
   "metadata": {
    "id": "l5ss9NUZOsIP"
   },
   "outputs": [],
   "source": [
    "#finding drug unique number\n",
    "drugs = ['Amoxicillin','Prinivil']"
   ]
  },
  {
   "cell_type": "code",
   "execution_count": 5,
   "metadata": {
    "id": "lvP5nGMPOBMe"
   },
   "outputs": [],
   "source": [
    "def unique_number(drugs):\n",
    "  unique_no = []\n",
    "  for drug in drugs:\n",
    "    url = \"https://api.fda.gov/drug/drugsfda.json?search={}&limit=10\".format(drug.upper())\n",
    "    response = requests.get(url)\n",
    "    for i in range(10):\n",
    "      try:\n",
    "        unii = response.json()['results'][i]['openfda']['unii'][0]\n",
    "      except:\n",
    "        pass\n",
    "    unique_no.append(unii)\n",
    "  return unique_no"
   ]
  },
  {
   "cell_type": "code",
   "execution_count": 6,
   "metadata": {
    "id": "Hj-ly0-jvc_R"
   },
   "outputs": [],
   "source": [
    "uno = unique_number(drugs)\n",
    "unique_number_one = uno[0]\n",
    "unique_number_two = uno[1]"
   ]
  },
  {
   "cell_type": "code",
   "execution_count": 7,
   "metadata": {
    "id": "veSRfdnWRCvk"
   },
   "outputs": [],
   "source": [
    "drug_fda = 'https://api.fda.gov/drug/drugsfda.json?search={}&limit=1'\n",
    "drug_label = 'https://api.fda.gov/drug/label.json?search=drug_interactions:{}&limit=1'"
   ]
  },
  {
   "cell_type": "code",
   "execution_count": 8,
   "metadata": {
    "id": "kSJUil1Be0vW"
   },
   "outputs": [],
   "source": [
    "query_one = drug_fda.format(unique_number_one)\n",
    "response_one = requests.get(query_one)\n",
    "query_two = drug_label.format(unique_number_two)\n",
    "response_two = requests.get(query_two)\n",
    "\n",
    "active_ingredients_one = \"\"\n",
    "active_ingredients_two = \"\"\n",
    "\n",
    "\n",
    "try:\n",
    "  json_object_one = json.dumps(response_one.json()['results'][0]['products'][0]['active_ingredients'])\n",
    "  for name in range(len(json.loads(json_object_one))):\n",
    "    active_ingredients_one = json.loads(json_object_one)[name]['name']\n",
    "except:\n",
    "  pass\n",
    "try:\n",
    "  json_object_two = json.dumps(response_two.json()['results'][0]['products'][0]['active_ingredients'])\n",
    "  for name in range(len(json.loads(json_object_two))):\n",
    "      active_ingredients_two = json.loads(json_object_two)[name]['name']\n",
    "except:\n",
    "  pass"
   ]
  },
  {
   "cell_type": "code",
   "execution_count": 9,
   "metadata": {
    "id": "g_nx3cCKgt-4"
   },
   "outputs": [],
   "source": [
    "interactions_one = tuple()\n",
    "interactions_two = tuple()\n",
    "try:\n",
    "  query_one = drug_label.format(drugs[0])\n",
    "  response_one = requests.get(query_one)\n",
    "  drug_interactions_one = json.dumps(response_one.json()['results'][0]['drug_interactions'][0])\n",
    "  interactions_one = nlp(drug_interactions_one).ents\n",
    "except:\n",
    "  pass\n",
    "\n",
    "try:\n",
    "  query_two = drug_label.format(drugs[1])\n",
    "  response_two = requests.get(query_two)\n",
    "  drug_interactions_two = json.dumps(response_two.json()['results'][0]['drug_interactions'][0])\n",
    "  interactions_two = nlp(drug_interactions_two).ents\n",
    "except:\n",
    "  pass\n"
   ]
  },
  {
   "cell_type": "code",
   "execution_count": 10,
   "metadata": {
    "colab": {
     "base_uri": "https://localhost:8080/"
    },
    "id": "iNAkZSPHjvyb",
    "outputId": "0fc377bd-4c22-430f-9144-e09ba2a69c53"
   },
   "outputs": [
    {
     "name": "stdout",
     "output_type": "stream",
     "text": [
      "Information not found in database\n"
     ]
    }
   ],
   "source": [
    "if active_ingredients_two==\"\" or len(interactions_one)==0:\n",
    "  print(\"Information not found in database\")\n",
    "else:\n",
    "    if len(list(set(interactions_one).intersection(list(active_ingredients_two))))==0:\n",
    "      print(\"No hazardous reaction information was found between active components of drug two with the chemical interactions of drug one\")"
   ]
  },
  {
   "cell_type": "code",
   "execution_count": 11,
   "metadata": {
    "colab": {
     "base_uri": "https://localhost:8080/"
    },
    "id": "JORmMwJ5mYVZ",
    "outputId": "74dc1d29-993b-447e-814f-bce02f1ca891"
   },
   "outputs": [
    {
     "name": "stdout",
     "output_type": "stream",
     "text": [
      "No hazardous reaction information was found between active components of drug one with the chemical interactions of drug two\n"
     ]
    }
   ],
   "source": [
    "if active_ingredients_one==\"\" or len(interactions_two)==0:\n",
    "  print(\"Information not found in database\")\n",
    "else:\n",
    "  if len(list(set(interactions_two).intersection(list(active_ingredients_one))))==0:\n",
    "    print(\"No hazardous reaction information was found between active components of drug one with the chemical interactions of drug two\")"
   ]
  }
 ],
 "metadata": {
  "colab": {
   "authorship_tag": "ABX9TyO0lQjNwwiZW5BN6VT1KRsw",
   "collapsed_sections": [],
   "include_colab_link": true,
   "provenance": []
  },
  "kernelspec": {
   "display_name": "Python 3 (ipykernel)",
   "language": "python",
   "name": "python3"
  },
  "language_info": {
   "codemirror_mode": {
    "name": "ipython",
    "version": 3
   },
   "file_extension": ".py",
   "mimetype": "text/x-python",
   "name": "python",
   "nbconvert_exporter": "python",
   "pygments_lexer": "ipython3",
   "version": "3.9.13"
  }
 },
 "nbformat": 4,
 "nbformat_minor": 1
}
