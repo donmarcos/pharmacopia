{
 "cells": [
  {
   "cell_type": "code",
   "execution_count": 197,
   "metadata": {
    "id": "k0kgDwUInVhU"
   },
   "outputs": [],
   "source": [
    "import requests\n",
    "import json\n",
    "\n",
    "CLIENT = boto3.client('dataexchange', region_name = 'us-east-1')\n",
    "DATA_SET_ID = 'b5c571b26671fc8b73a1146b140f0d75'\n",
    "REVISION_ID = '9ae2799c1227cc58002a946e27410dd3'\n",
    "ASSET_ID = '245ba9ec692792d750753ab605f388d2'"
   ]
  },
  {
   "cell_type": "code",
   "execution_count": 198,
   "metadata": {
    "id": "XWl1bEaqmm4W"
   },
   "outputs": [],
   "source": [
    "drug_name = 'Amoxicillin' #Fetch drug name from prescription (EXAMPLE LEVOSIZ 5MG SHOULD BE PUT AS LEVOSIZ-5 IN QUERY)\n",
    "drug_fda = 'https://api.fda.gov/drug/drugsfda.json?search={}&limit=1'\n",
    "drug_label = 'https://api.fda.gov/drug/label.json?search={}&limit=1'\n",
    "drug_ndc = 'https://api.fda.gov/drug/ndc.json?search={}&limit=1' \n",
    "drug_enforcement = 'https://api.fda.gov/drug/enforcement.json?search={}&limit=1'"
   ]
  },
  {
   "cell_type": "code",
   "execution_count": 199,
   "metadata": {
    "id": "aCbTtnJrnk_v"
   },
   "outputs": [],
   "source": [
    "def drugs_fda(drug_name):\n",
    "    QUERY_STRING_PARAMETERS = {'search': drug_name.upper()}\n",
    "    response = CLIENT.send_api_asset(\n",
    "        DataSetId=DATA_SET_ID,\n",
    "        RevisionId=REVISION_ID,\n",
    "        AssetId=ASSET_ID,\n",
    "        Method='GET',\n",
    "        Path='/drug/drugsfda.json',\n",
    "        QueryStringParameters=QUERY_STRING_PARAMETERS\n",
    "    )\n",
    "    return response"
   ]
  },
  {
   "cell_type": "code",
   "execution_count": 200,
   "metadata": {},
   "outputs": [],
   "source": [
    "def drugs_label(drug_name):\n",
    "    QUERY_STRING_PARAMETERS = {'search': drug_name.upper()}\n",
    "    response = CLIENT.send_api_asset(\n",
    "        DataSetId=DATA_SET_ID,\n",
    "        RevisionId=REVISION_ID,\n",
    "        AssetId=ASSET_ID,\n",
    "        Method='GET',\n",
    "        Path='/drug/label.json',\n",
    "        QueryStringParameters=QUERY_STRING_PARAMETERS\n",
    "    )\n",
    "    return response"
   ]
  },
  {
   "cell_type": "code",
   "execution_count": 201,
   "metadata": {},
   "outputs": [],
   "source": [
    "def drugs_ndc(drug_name):\n",
    "    QUERY_STRING_PARAMETERS = {'search': drug_name.upper()}\n",
    "    response = CLIENT.send_api_asset(\n",
    "        DataSetId=DATA_SET_ID,\n",
    "        RevisionId=REVISION_ID,\n",
    "        AssetId=ASSET_ID,\n",
    "        Method='GET',\n",
    "        Path='/drug/ndc.json',\n",
    "        QueryStringParameters=QUERY_STRING_PARAMETERS\n",
    "    )\n",
    "    return response"
   ]
  },
  {
   "cell_type": "code",
   "execution_count": 208,
   "metadata": {},
   "outputs": [],
   "source": [
    "def drugs_enforcement(drug_name):\n",
    "    QUERY_STRING_PARAMETERS = {'search': drug_name.upper()}\n",
    "    response = CLIENT.send_api_asset(\n",
    "        DataSetId=DATA_SET_ID,\n",
    "        RevisionId=REVISION_ID,\n",
    "        AssetId=ASSET_ID,\n",
    "        Method='GET',\n",
    "        Path='/drug/enforcement.json',\n",
    "        QueryStringParameters=QUERY_STRING_PARAMETERS\n",
    "    )\n",
    "    return response"
   ]
  },
  {
   "cell_type": "code",
   "execution_count": 224,
   "metadata": {},
   "outputs": [],
   "source": [
    "def drugs_alternative(drug_name):\n",
    "    QUERY_STRING_PARAMETERS = {'search': drug_name.upper()}\n",
    "    response = CLIENT.send_api_asset(\n",
    "        DataSetId=DATA_SET_ID,\n",
    "        RevisionId=REVISION_ID,\n",
    "        AssetId=ASSET_ID,\n",
    "        Method='GET',\n",
    "        Path='/drug/drugsfda.json',\n",
    "        QueryStringParameters=QUERY_STRING_PARAMETERS\n",
    "    )\n",
    "    return response"
   ]
  },
  {
   "cell_type": "code",
   "execution_count": 225,
   "metadata": {
    "scrolled": true
   },
   "outputs": [],
   "source": [
    "response = drugs_fda(drug_name)\n",
    "body = json.loads(dict(response)['Body'])\n",
    "products = body['results'][0]['products'][0]\n",
    "details = {\n",
    "    'brand_name': products['brand_name'],\n",
    "    'active_ingredients': products['active_ingredients'],\n",
    "    'route': products['route'],\n",
    "    'dosage_form': products['dosage_form']\n",
    "}"
   ]
  },
  {
   "cell_type": "code",
   "execution_count": 214,
   "metadata": {},
   "outputs": [],
   "source": [
    "response = drugs_label(drug_name)\n",
    "body = json.loads(dict(response)['Body'])\n",
    "temp = {\n",
    "    'warnings': body['results'][0]['warnings'],\n",
    "    'adverse_reactions': body['results'][0]['adverse_reactions'],\n",
    "    'contraindications': body['results'][0]['contraindications'],\n",
    "    'information_for_patients': body['results'][0]['information_for_patients']\n",
    "}\n",
    "details.update(temp)"
   ]
  },
  {
   "cell_type": "code",
   "execution_count": 215,
   "metadata": {},
   "outputs": [],
   "source": [
    "response = drugs_ndc(drug_name)\n",
    "body = json.loads(dict(response)['Body'])\n",
    "details['pharm_class'] = body['results'][0]['pharm_class']"
   ]
  },
  {
   "cell_type": "code",
   "execution_count": 222,
   "metadata": {},
   "outputs": [],
   "source": [
    "response = drugs_enforcement(drug_name)\n",
    "body = json.loads(dict(response)['Body'])\n",
    "details['reason_for_recall'] = body['results'][0]['reason_for_recall']"
   ]
  },
  {
   "cell_type": "code",
   "execution_count": 223,
   "metadata": {},
   "outputs": [
    {
     "data": {
      "text/plain": [
       "{'brand_name': 'AMOXICILLIN AND CLAVULANATE POTASSIUM',\n",
       " 'active_ingredients': [{'name': 'AMOXICILLIN', 'strength': '500MG'},\n",
       "  {'name': 'CLAVULANATE POTASSIUM', 'strength': 'EQ 125MG BASE'}],\n",
       " 'route': 'ORAL',\n",
       " 'dosage_form': 'TABLET',\n",
       " 'warnings': ['WARNINGS Use In Pregnancy CLARITHROMYCIN SHOULD NOT BE USED IN PREGNANT WOMEN EXCEPT IN CLINICAL CIRCUMSTANCES WHERE NO ALTERNATIVE THERAPY IS APPROPRIATE. IF PREGNANCY OCCURS WHILE TAKING THIS DRUG, THE PATIENT SHOULD BE APPRISED OF THE POTENTIAL HAZARD TO THE FETUS. CLARITHROMYCIN HAS DEMONSTRATED ADVERSE EFFECTS OF PREGNANCY OUTCOME AND/OR EMBRYO-FETAL DEVELOPMENT IN MONKEYS, RATS, MICE, AND RABBITS AT DOSES THAT PRODUCED PLASMA LEVELS 2 TO 17 TIMES THE SERUM LEVELS ACHIEVED IN HUMANS TREATED AT THE MAXIMUM RECOMMENDED HUMAN DOSES. (See PRECAUTIONS: Pregnancy .) Hepatotoxicity Hepatic dysfunction, including increased liver enzymes, and hepatocellular and/or cholestatic hepatitis, with or without jaundice, has been reported with clarithromycin. This hepatic dysfunction may be severe and is usually reversible. In some instances, hepatic failure with fatal outcome has been reported and generally has been associated with serious underlying diseases and/or concomitant medications. Discontinue clarithromycin immediately if signs and symptoms of hepatitis occur. QT Prolongation Clarithromycin has been associated with prolongation of the QT interval and infrequent cases of arrhythmia. Cases of torsades de pointes have been spontaneously reported during postmarketing surveillance in patients receiving clarithromycin. Fatalities have been reported. Clarithromycin should be avoided in patients with ongoing proarrhythmic conditions such as uncorrected hypokalemia or hypomagnesemia, clinically significant bradycardia (see CONTRAINDICATIONS ) and in patients receiving Class IA (quinidine, procainamide) or Class III (dofetilide, amiodarone, sotalol) antiarrhythmic agents. Elderly patients may be more susceptible to drug-associated effects on the QT interval. Drug Interactions Serious adverse reactions have been reported in patients taking clarithromycin concomitantly with CYP3A4 substrates. These include colchicine toxicity with colchicine; rhabdomyolysis with simvastatin, lovastatin, and atorvastatin; and hypotension with calcium channel blockers metabolized by CYP3A4 (e.g., verapamil, amlodipine, diltiazem) (see PRECAUTIONS: Drug Interactions ). Life-threatening and fatal drug interactions have been reported in patients treated with clarithromycin and colchicine. Clarithromycin is a strong CYP3A4 inhibitor and this interaction may occur while using both drugs at their recommended doses. If co-administration of clarithromycin and colchicine is necessary in patients with normal renal and hepatic function, the dose of colchicine should be reduced. Patients should be monitored for clinical symptoms of colchicine toxicity. Concomitant administration of clarithromycin and colchicine is contraindicated in patients with renal or hepatic impairment (see CONTRAINDICATIONS and PRECAUTIONS: Drug Interactions ). Clostridium difficile Associated Diarrhea Clostridium difficile associated diarrhea (CDAD) has been reported with use of nearly all antibacterial agents, including clarithromycin, and may range in severity from mild diarrhea to fatal colitis. Treatment with antibacterial agents alters the normal flora of the colon leading to overgrowth of C. difficile . C. difficile produces toxins A and B which contribute to the development of CDAD. Hypertoxin producing strains of C. difficile cause increased morbidity and mortality, as these infections can be refractory to antimicrobial therapy and may require colectomy. CDAD must be considered in all patients who present with diarrhea following antibiotic use. Careful medical history is necessary since CDAD has been reported to occur over two months after the administration of antibacterial agents. If CDAD is suspected or confirmed, ongoing antibiotic use not directed against C. difficile may need to be discontinued. Appropriate fluid and electrolyte management, protein supplementation, antibiotic treatment of C. difficile , and surgical evaluation should be instituted as clinically indicated. For information about warnings of other drugs indicated in combination with clarithromycin, refer to the WARNINGS section of their package inserts. Acute Hypersensitivity Reactions In the event of severe acute hypersensitivity reactions, such as anaphylaxis, Stevens-Johnson Syndrome, toxic epidermal necrolysis, drug rash with eosinophilia and systemic symptoms (DRESS), and Henoch-Schonlein purpura clarithromycin therapy should be discontinued immediately and appropriate treatment should be urgently initiated. Oral Hypoglycemic Agents/Insulin The concomitant use of clarithromycin and oral hypoglycemic agents and/or insulin can result in significant hypoglycemia. With certain hypoglycemic drugs such as nateglinide, pioglitazone, repaglinide and rosiglitazone, inhibition of CYP3A enzyme by clarithromycin may be involved and could cause hypolgycemia when used concomitantly. Careful monitoring of glucose is recommended. Oral Anticoagulants There is a risk of serious hemorrhage and significant elevations in INR and prothrombin time when clarithromycin is co-administered with warfarin. INR and prothrombin times should be frequently monitored while patients are receiving clarithromycin and oral anticoagulants concurrently. HMG-CoA Reductase Inhibitors (statins) Concomitant use of clarithromycin with lovastatin or simvastatin is contraindicated (see CONTRAINDICATIONS ) as these statins are extensively metabolized by CYP3A4, and concomitant treatment with clarithromycin increases their plasma concentration, which increases the risk of myopathy, including rhabdomyolysis. Cases of rhabdomyolysis have been reported in patients taking clarithromycin concomitantly with these statins. If treatment with clarithromycin cannot be avoided, therapy with lovastatin or simvastatin must be suspended during the course of treatment. Caution should be exercised when prescribing clarithromycin with statins. In situations where the concomitant use of clarithromycin with atorvastatin or pravastatin cannot be avoided, atorvastatin dose should not exceed 20 mg daily and pravastatin dose should not exceed 40 mg daily. Use of a statin that is not dependent on CYP3A metabolism (e.g.fluvastatin) can be considered. It is recommended to prescribe the lowest registered dose if concomitant use cannot be avoided.'],\n",
       " 'adverse_reactions': ['ADVERSE REACTIONS The majority of side effects observed in clinical trials were of a mild and transient nature. Fewer than 3% of adult patients without mycobacterial infections and fewer than 2% of pediatric patients without mycobacterial infections discontinued therapy because of drug-related side effects. The most frequently reported events in adults taking clarithromycin tablets, USP were diarrhea (3%), nausea (3%), abnormal taste (3%), dyspepsia (2%), abdominal pain/discomfort (2%), and headache (2%). In pediatric patients, the most frequently reported events were diarrhea (6%), vomiting (6%), abdominal pain (3%), rash (3%), and headache (2%). Most of these events were described as mild or moderate in severity. Of the reported adverse events, only 1% was described as severe. In the acute exacerbation of chronic bronchitis and acute maxillary sinusitis studies overall gastrointestinal adverse events were reported by a similar proportion of patients taking either clarithromycin tablets or clarithromycin extended-release tablets; however, patients taking clarithromycin extended-release tablets reported significantly less severe gastrointestinal symptoms compared to patients taking clarithromycin tablets. In addition, patients taking clarithromycin extended-release tablets had significantly fewer premature discontinuations for drug-related gastrointestinal or abnormal taste adverse events compared to clarithromycin tablets. In community-acquired pneumonia studies conducted in adults comparing clarithromycin to erythromycin base or erythromycin stearate, there were fewer adverse events involving the digestive system in clarithromycin-treated patients compared to erythromycin-treated patients (13% vs 32%; p<0.01). Twenty percent of erythromycin-treated patients discontinued therapy due to adverse events compared to 4% of clarithromycin-treated patients. In two U.S. studies of acute otitis media comparing clarithromycin to amoxicillin/potassium clavulanate in pediatric patients, there were fewer adverse events involving the digestive system in clarithromycin-treated patients compared to amoxicillin/potassium clavulanate-treated patients (21% vs 40%, p<0.001). One-third as many clarithromycin-treated patients reported diarrhea as did amoxicillin/potassium clavulanate-treated patients. Post-Marketing Experience Allergic reactions ranging from urticaria and mild skin eruptions to rare cases of anaphylaxis, Stevens-Johnson syndrome, drug rash with eosinophilia and systemic symptoms (DRESS), Henoch-Schonlein Purpura and toxic epidermal necrolysis have occurred. Other spontaneously reported adverse events include glossitis, stomatitis, oral moniliasis, anorexia, vomiting, pancreatitis, tongue discoloration, thrombocytopenia, leukopenia, neutropenia, dizziness, myalgia and hemorrhage. There have been reports of tooth discoloration in patients treated with clarithromycin. Tooth discoloration is usually reversible with professional dental cleaning. There have been isolated reports of hearing loss, which is usually reversible, occurring chiefly in elderly women. Reports of alterations of the sense of smell including smell loss, usually in conjunction with taste perversion or taste loss, have also been reported. Transient CNS events including anxiety, behavioral changes, confusional states, convulsions, depersonalization, disorientation, hallucinations, insomnia, depression, manic behavior, nightmares, psychosis, tinnitus, tremor, and vertigo have been reported during post-marketing surveillance. Events usually resolve with discontinuation of the drug. Adverse reactions related to hepatic dysfunction have been reported in postmarketing experience with clarithromycin. (See WARNINGS: Hepatotoxicity .) There have been rare reports of hypoglycemia, some of which have occurred in patients taking oral hypoglycemic agents or insulin. There have been post-marketing reports of clarithromycin tablets in the stool, many of which have occurred in patients with anatomic (including ileostomy or colostomy) or functional gastrointestinal disorders with shortened GI transit times. As with other macrolides, clarithromycin has been associated with QT prolongation and ventricular arrhythmias, including ventricular tachycardia and torsades de pointes. There have been reports of interstitial nephritis coincident with clarithromycin use. There have been post-marketing reports of colchicine toxicity with concomitant use of clarithromycin and colchicine, especially in the elderly, some of which occurred in patients with renal insufficiency. Deaths have been reported in some such patients. (See WARNINGS and PRECAUTIONS .) There have been cases of rhabdomyolysis reported with clarithromycin use. In some cases, clarithromycin was administered concomitantly with other drugs known to be associated with rhabdomyolysis (such as statins, fibrates, colchicine or allopurinol). Changes in Laboratory Values Changes in laboratory values with possible clinical significance were as follows: Hepatic – elevated SGPT (ALT) <1%; SGOT (AST) <1%; GGT <1%; alkaline phosphatase <1%; LDH <1%; total bilirubin <1% Hematologic – decreased WBC <1%; elevated prothrombin time 1% Renal – elevated BUN 4%; elevated serum creatinine <1% GGT, alkaline phosphatase, and prothrombin time data are from adult studies only.'],\n",
       " 'contraindications': ['CONTRAINDICATIONS Clarithromycin is contraindicated in patients with a known hypersensitivity to clarithromycin or any of its excipients, erythromycin, or any of the macrolide antibiotics. Clarithromycin is contraindicated in patients with a history of cholestatic jaundice/hepatic dysfunction associated with prior use of clarithromycin. Concomitant administration of clarithromycin and any of the following drugs is contraindicated: cisapride, pimozide, astemizole, terfenadine, and ergotamine or dihydroergotamine (see Drug Interactions ). There have been post-marketing reports of drug interactions when clarithromycin and/or erythromycin are co-administered with cisapride, pimozide, astemizole, or terfenadine resulting in cardiac arrhythmias (QT prolongation, ventricular tachycardia, ventricular fibrillation, and torsades de pointes) most likely due to inhibition of metabolism of these drugs by erythromycin and clarithromycin. Fatalities have been reported. Concomitant administration of clarithromycin and colchicine is contraindicated in patients with renal or hepatic impairment. Clarithromycin should not be given to patients with history of QT prolongation or ventricular cardiac arrhythmia, including torsades de pointes . Clarithromycin should not be used concomitantly with HMG-CoA reductase inhibitors (statins) that are extensively metabolized by CYP3A4 (lovastatin or simvastatin), due to the increased risk of myopathy, including rhabdomyolysis. (see WARNINGS ). For information about contraindications of other drugs indicated in combination with clarithromycin, refer to the CONTRAINDICATIONS section of their package inserts.'],\n",
       " 'information_for_patients': ['Information to Patients Patients should be counseled that antibacterial drugs including clarithromycin should only be used to treat bacterial infections. They do not treat viral infections (e.g., the common cold). When clarithromycin is prescribed to treat a bacterial infection, patients should be told that although it is common to feel better early in the course of therapy, the medication should be taken exactly as directed. Skipping doses or not completing the full course of therapy may (1) decrease the effectiveness of the immediate treatment and (2) increase the likelihood that bacteria will develop resistance and will not be treatable by clarithromycin or other antibacterial drugs in the future. Diarrhea is a common problem caused by antibiotics which usually ends when the antibiotic is discontinued. Sometimes after starting treatment with antibiotics, patients can develop watery and bloody stools (with or without stomach cramps and fever) even as late as two or more months after having taken the last dose of the antibiotic. If this occurs, patients should contact their physician as soon as possible. Clarithromycin tablets may interact with some drugs; therefore patients should be advised to report to their doctor the use of any other medications. Clarithromycin tablets can be taken with or without food and can be taken with milk.'],\n",
       " 'pharm_class': ['Penicillin-class Antibacterial [EPC]', 'Penicillins [CS]'],\n",
       " 'reason_for_recall': 'Microbial Contamination of Non-Sterile Products: Suspensions made from these lots of Amoxicillin 125 mg/5 mL showed yeast and mold growth at the 14 day time point.'}"
      ]
     },
     "execution_count": 223,
     "metadata": {},
     "output_type": "execute_result"
    }
   ],
   "source": [
    "details"
   ]
  },
  {
   "cell_type": "code",
   "execution_count": 227,
   "metadata": {
    "scrolled": true
   },
   "outputs": [],
   "source": [
    "response = drugs_fda(drug_name)"
   ]
  },
  {
   "cell_type": "code",
   "execution_count": 232,
   "metadata": {
    "scrolled": true
   },
   "outputs": [
    {
     "data": {
      "text/plain": [
       "{'meta': {'disclaimer': 'Do not rely on openFDA to make decisions regarding medical care. While we make every effort to ensure that data is accurate, you should assume all results are unvalidated. We may limit or otherwise restrict your access to the API in line with our Terms of Service.',\n",
       "  'terms': 'https://open.fda.gov/terms/',\n",
       "  'license': 'https://open.fda.gov/license/',\n",
       "  'last_updated': '2022-11-08',\n",
       "  'results': {'skip': 0, 'limit': 1, 'total': 120}},\n",
       " 'results': [{'submissions': [{'submission_type': 'SUPPL',\n",
       "     'submission_number': '3',\n",
       "     'submission_status': 'AP',\n",
       "     'submission_status_date': '20040525',\n",
       "     'submission_class_code': 'LABELING',\n",
       "     'submission_class_code_description': 'Labeling'},\n",
       "    {'submission_type': 'SUPPL',\n",
       "     'submission_number': '8',\n",
       "     'submission_status': 'AP',\n",
       "     'submission_status_date': '20060202',\n",
       "     'submission_class_code': 'LABELING',\n",
       "     'submission_class_code_description': 'Labeling'},\n",
       "    {'submission_type': 'SUPPL',\n",
       "     'submission_number': '6',\n",
       "     'submission_status': 'AP',\n",
       "     'submission_status_date': '20040930',\n",
       "     'submission_class_code': 'LABELING',\n",
       "     'submission_class_code_description': 'Labeling'},\n",
       "    {'submission_type': 'SUPPL',\n",
       "     'submission_number': '4',\n",
       "     'submission_status': 'AP',\n",
       "     'submission_status_date': '20040514',\n",
       "     'submission_class_code': 'LABELING',\n",
       "     'submission_class_code_description': 'Labeling'},\n",
       "    {'submission_type': 'ORIG',\n",
       "     'submission_number': '1',\n",
       "     'submission_status': 'AP',\n",
       "     'submission_status_date': '20021104'},\n",
       "    {'submission_type': 'SUPPL',\n",
       "     'submission_number': '16',\n",
       "     'submission_status': 'AP',\n",
       "     'submission_status_date': '20081028',\n",
       "     'submission_class_code': 'LABELING',\n",
       "     'submission_class_code_description': 'Labeling'},\n",
       "    {'submission_type': 'SUPPL',\n",
       "     'submission_number': '14',\n",
       "     'submission_status': 'AP',\n",
       "     'submission_status_date': '20070328',\n",
       "     'submission_class_code': 'LABELING',\n",
       "     'submission_class_code_description': 'Labeling'}],\n",
       "   'application_number': 'ANDA065109',\n",
       "   'sponsor_name': 'SUN PHARM INDS LTD',\n",
       "   'products': [{'product_number': '001',\n",
       "     'reference_drug': 'No',\n",
       "     'brand_name': 'AMOXICILLIN AND CLAVULANATE POTASSIUM',\n",
       "     'active_ingredients': [{'name': 'AMOXICILLIN', 'strength': '500MG'},\n",
       "      {'name': 'CLAVULANATE POTASSIUM', 'strength': 'EQ 125MG BASE'}],\n",
       "     'reference_standard': 'No',\n",
       "     'dosage_form': 'TABLET',\n",
       "     'route': 'ORAL',\n",
       "     'marketing_status': 'Discontinued'}]}]}"
      ]
     },
     "execution_count": 232,
     "metadata": {},
     "output_type": "execute_result"
    }
   ],
   "source": [
    "json.loads(response['Body'])"
   ]
  },
  {
   "cell_type": "code",
   "execution_count": 235,
   "metadata": {},
   "outputs": [
    {
     "data": {
      "text/plain": [
       "'{\\n  \"meta\": {\\n    \"disclaimer\": \"Do not rely on openFDA to make decisions regarding medical care. While we make every effort to ensure that data is accurate, you should assume all results are unvalidated. We may limit or otherwise restrict your access to the API in line with our Terms of Service.\",\\n    \"terms\": \"https://open.fda.gov/terms/\",\\n    \"license\": \"https://open.fda.gov/license/\",\\n    \"last_updated\": \"2022-11-08\",\\n    \"results\": {\\n      \"skip\": 0,\\n      \"limit\": 1,\\n      \"total\": 120\\n    }\\n  },\\n  \"results\": [\\n    {\\n      \"submissions\": [\\n        {\\n          \"submission_type\": \"SUPPL\",\\n          \"submission_number\": \"3\",\\n          \"submission_status\": \"AP\",\\n          \"submission_status_date\": \"20040525\",\\n          \"submission_class_code\": \"LABELING\",\\n          \"submission_class_code_description\": \"Labeling\"\\n        },\\n        {\\n          \"submission_type\": \"SUPPL\",\\n          \"submission_number\": \"8\",\\n          \"submission_status\": \"AP\",\\n          \"submission_status_date\": \"20060202\",\\n          \"submission_class_code\": \"LABELING\",\\n          \"submission_class_code_description\": \"Labeling\"\\n        },\\n        {\\n          \"submission_type\": \"SUPPL\",\\n          \"submission_number\": \"6\",\\n          \"submission_status\": \"AP\",\\n          \"submission_status_date\": \"20040930\",\\n          \"submission_class_code\": \"LABELING\",\\n          \"submission_class_code_description\": \"Labeling\"\\n        },\\n        {\\n          \"submission_type\": \"SUPPL\",\\n          \"submission_number\": \"4\",\\n          \"submission_status\": \"AP\",\\n          \"submission_status_date\": \"20040514\",\\n          \"submission_class_code\": \"LABELING\",\\n          \"submission_class_code_description\": \"Labeling\"\\n        },\\n        {\\n          \"submission_type\": \"ORIG\",\\n          \"submission_number\": \"1\",\\n          \"submission_status\": \"AP\",\\n          \"submission_status_date\": \"20021104\"\\n        },\\n        {\\n          \"submission_type\": \"SUPPL\",\\n          \"submission_number\": \"16\",\\n          \"submission_status\": \"AP\",\\n          \"submission_status_date\": \"20081028\",\\n          \"submission_class_code\": \"LABELING\",\\n          \"submission_class_code_description\": \"Labeling\"\\n        },\\n        {\\n          \"submission_type\": \"SUPPL\",\\n          \"submission_number\": \"14\",\\n          \"submission_status\": \"AP\",\\n          \"submission_status_date\": \"20070328\",\\n          \"submission_class_code\": \"LABELING\",\\n          \"submission_class_code_description\": \"Labeling\"\\n        }\\n      ],\\n      \"application_number\": \"ANDA065109\",\\n      \"sponsor_name\": \"SUN PHARM INDS LTD\",\\n      \"products\": [\\n        {\\n          \"product_number\": \"001\",\\n          \"reference_drug\": \"No\",\\n          \"brand_name\": \"AMOXICILLIN AND CLAVULANATE POTASSIUM\",\\n          \"active_ingredients\": [\\n            {\\n              \"name\": \"AMOXICILLIN\",\\n              \"strength\": \"500MG\"\\n            },\\n            {\\n              \"name\": \"CLAVULANATE POTASSIUM\",\\n              \"strength\": \"EQ 125MG BASE\"\\n            }\\n          ],\\n          \"reference_standard\": \"No\",\\n          \"dosage_form\": \"TABLET\",\\n          \"route\": \"ORAL\",\\n          \"marketing_status\": \"Discontinued\"\\n        }\\n      ]\\n    }\\n  ]\\n}'"
      ]
     },
     "execution_count": 235,
     "metadata": {},
     "output_type": "execute_result"
    }
   ],
   "source": [
    "response['Body']"
   ]
  },
  {
   "cell_type": "code",
   "execution_count": null,
   "metadata": {},
   "outputs": [],
   "source": []
  }
 ],
 "metadata": {
  "colab": {
   "collapsed_sections": [],
   "provenance": []
  },
  "kernelspec": {
   "display_name": "Python 3 (ipykernel)",
   "language": "python",
   "name": "python3"
  },
  "language_info": {
   "codemirror_mode": {
    "name": "ipython",
    "version": 3
   },
   "file_extension": ".py",
   "mimetype": "text/x-python",
   "name": "python",
   "nbconvert_exporter": "python",
   "pygments_lexer": "ipython3",
   "version": "3.9.13"
  }
 },
 "nbformat": 4,
 "nbformat_minor": 1
}
