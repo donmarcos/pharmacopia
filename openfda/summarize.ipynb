{
  "nbformat": 4,
  "nbformat_minor": 0,
  "metadata": {
    "colab": {
      "provenance": [],
      "collapsed_sections": []
    },
    "kernelspec": {
      "name": "python3",
      "display_name": "Python 3"
    },
    "language_info": {
      "name": "python"
    }
  },
  "cells": [
    {
      "cell_type": "code",
      "execution_count": null,
      "metadata": {
        "id": "3xVrJHpDgNrh"
      },
      "outputs": [],
      "source": [
        "import spacy\n",
        "import textwrap\n",
        "from spacy.lang.en.stop_words import STOP_WORDS\n",
        "from string import punctuation\n",
        "from heapq import nlargest\n",
        "punctuation += '\\n' \n",
        "stopwords = list(STOP_WORDS)\n",
        "reduction_rate = 0.5  "
      ]
    },
    {
      "cell_type": "code",
      "source": [
        "nlp_pl = spacy.load('en_core_web_sm')     \n",
        "document = nlp_pl(indications_and_usage)                 \n",
        "\n",
        "tokens = [token.text for token in document] \n",
        "\n",
        "word_frequencies = {}\n",
        "for word in document:\n",
        "    if word.text.lower() not in stopwords:\n",
        "        if word.text.lower() not in punctuation:\n",
        "            if word.text not in word_frequencies.keys():\n",
        "                word_frequencies[word.text] = 1\n",
        "            else:\n",
        "                word_frequencies[word.text] += 1\n",
        "\n",
        "max_frequency = max(word_frequencies.values())\n",
        "print(max_frequency)\n",
        "\n",
        "for word in word_frequencies.keys():\n",
        "    word_frequencies[word] = word_frequencies[word]/max_frequency\n",
        "\n",
        "print(word_frequencies)"
      ],
      "metadata": {
        "id": "zBRobvz5gTvd"
      },
      "execution_count": null,
      "outputs": []
    },
    {
      "cell_type": "code",
      "source": [
        "sentence_tokens = [sent for sent in document.sents]\n",
        "\n",
        "def get_sentence_scores(sentence_tok, len_norm=True):\n",
        "  sentence_scores = {}\n",
        "  for sent in sentence_tok:\n",
        "      word_count = 0\n",
        "      for word in sent:\n",
        "          if word.text.lower() in word_frequencies.keys():\n",
        "              word_count += 1\n",
        "              if sent not in sentence_scores.keys():\n",
        "                  sentence_scores[sent] = word_frequencies[word.text.lower()]\n",
        "              else:\n",
        "                  sentence_scores[sent] += word_frequencies[word.text.lower()]\n",
        "      if len_norm:\n",
        "        sentence_scores[sent] = sentence_scores[sent]/word_count\n",
        "  return sentence_scores\n",
        "                \n",
        "sentence_scores = get_sentence_scores(sentence_tokens,len_norm=False)        #sentence scoring without lenght normalization\n",
        "sentence_scores_rel = get_sentence_scores(sentence_tokens,len_norm=True)     #sentence scoring with length normalization"
      ],
      "metadata": {
        "id": "Ol4cE21ygTwx"
      },
      "execution_count": null,
      "outputs": []
    },
    {
      "cell_type": "code",
      "source": [
        "def get_summary(sentence_sc, rate):\n",
        "  summary_length = int(len(sentence_sc)*rate)\n",
        "  summary = nlargest(summary_length, sentence_sc, key = sentence_sc.get)\n",
        "  final_summary = [word.text for word in summary]\n",
        "  summary = ' '.join(final_summary)\n",
        "  return summary\n",
        "\n",
        "get_summary(sentence_scores_rel, reduction_rate))\n",
        "get_summary(sentence_scores, reduction_rate)"
      ],
      "metadata": {
        "id": "5EYQ8_ZGgTz_"
      },
      "execution_count": null,
      "outputs": []
    }
  ]
}