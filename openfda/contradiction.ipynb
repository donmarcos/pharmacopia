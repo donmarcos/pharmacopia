{
 "cells": [
  {
   "cell_type": "code",
   "execution_count": null,
   "metadata": {
    "id": "FdBH-m5S3Rih"
   },
   "outputs": [],
   "source": [
    "import spacy\n",
    "import json\n",
    "import requests\n",
    "import boto3\n",
    "import os"
   ]
  },
  {
   "cell_type": "code",
   "execution_count": 3,
   "metadata": {},
   "outputs": [],
   "source": [
    "CLIENT = boto3.client('dataexchange', region_name = 'us-east-1')\n",
    "DATA_SET_ID = 'b5c571b26671fc8b73a1146b140f0d75'\n",
    "REVISION_ID = '9ae2799c1227cc58002a946e27410dd3'\n",
    "ASSET_ID = '245ba9ec692792d750753ab605f388d2'"
   ]
  },
  {
   "cell_type": "code",
   "execution_count": 4,
   "metadata": {
    "id": "hkyr1aeb3UDf"
   },
   "outputs": [],
   "source": [
    "nlp = spacy.load(\"en_core_sci_md\")"
   ]
  },
  {
   "cell_type": "code",
   "execution_count": 5,
   "metadata": {
    "id": "PhB3VWs63WWO"
   },
   "outputs": [],
   "source": [
    "#finding drug unique number\n",
    "drugs = ['Amoxicillin','Prinivil']"
   ]
  },
  {
   "cell_type": "code",
   "execution_count": 6,
   "metadata": {
    "id": "JYJ1xgfF5tLp"
   },
   "outputs": [],
   "source": [
    "def unique_number(drugs):\n",
    "    QUERY_STRING_PARAMETERS = {'search': drugs[0].upper(),'limit': '10' }\n",
    "    response_one = CLIENT.send_api_asset(\n",
    "        DataSetId=DATA_SET_ID,\n",
    "        RevisionId=REVISION_ID,\n",
    "        AssetId=ASSET_ID,\n",
    "        Method='GET',\n",
    "        Path='/drug/drugsfda.json',\n",
    "        QueryStringParameters=QUERY_STRING_PARAMETERS\n",
    "    )\n",
    "    for i in range(10):\n",
    "        try:\n",
    "            unique_number_one = json.loads(response_one['Body'])['results'][i]['openfda']['unii'][0]\n",
    "        except:\n",
    "            pass\n",
    "    \n",
    "    QUERY_STRING_PARAMETERS = {'search': drugs[1].upper(),'limit': '10' }\n",
    "    response_two = CLIENT.send_api_asset(\n",
    "        DataSetId=DATA_SET_ID,\n",
    "        RevisionId=REVISION_ID,\n",
    "        AssetId=ASSET_ID,\n",
    "        Method='GET',\n",
    "        Path='/drug/drugsfda.json',\n",
    "        QueryStringParameters=QUERY_STRING_PARAMETERS\n",
    "    )\n",
    "    for i in range(10):\n",
    "        try:\n",
    "            unique_number_two = json.loads(response_one['Body'])['results'][i]['openfda']['unii'][0]\n",
    "        except:\n",
    "            pass\n",
    "    return unique_number_one, unique_number_two"
   ]
  },
  {
   "cell_type": "code",
   "execution_count": 7,
   "metadata": {
    "id": "xCdhSK_83abQ"
   },
   "outputs": [],
   "source": [
    "unique_number_one, unique_number_two = unique_number(drugs)"
   ]
  },
  {
   "cell_type": "code",
   "execution_count": 8,
   "metadata": {
    "id": "PMbje4wZ6Zti"
   },
   "outputs": [],
   "source": [
    "def drug_information(unique_number_one, unique_number_two):\n",
    "    QUERY_STRING_PARAMETERS_ONE = {'search': unique_number_one,'limit': '1' }\n",
    "    response_one = CLIENT.send_api_asset(\n",
    "        DataSetId=DATA_SET_ID,\n",
    "        RevisionId=REVISION_ID,\n",
    "        AssetId=ASSET_ID,\n",
    "        Method='GET',\n",
    "        Path='/drug/drugsfda.json',\n",
    "        QueryStringParameters=QUERY_STRING_PARAMETERS_ONE\n",
    "    )      \n",
    "    \n",
    "    QUERY_STRING_PARAMETERS_TWO = {'search': unique_number_two,'limit': '1' }\n",
    "\n",
    "    response_two = CLIENT.send_api_asset(\n",
    "        DataSetId=DATA_SET_ID,\n",
    "        RevisionId=REVISION_ID,\n",
    "        AssetId=ASSET_ID,\n",
    "        Method='GET',\n",
    "        Path='/drug/label.json',\n",
    "        QueryStringParameters=QUERY_STRING_PARAMETERS_TWO\n",
    "    )\n",
    "\n",
    "    return response_one, response_two"
   ]
  },
  {
   "cell_type": "code",
   "execution_count": 9,
   "metadata": {},
   "outputs": [],
   "source": [
    "response_one, response_two = drug_information(unique_number_one, unique_number_two)"
   ]
  },
  {
   "cell_type": "code",
   "execution_count": 10,
   "metadata": {
    "id": "NG8iYnML3eXN"
   },
   "outputs": [],
   "source": [
    "def contradictions(response_one,response_two):\n",
    "    \n",
    "    active_ingredients_one = \"\"\n",
    "    active_ingredients_two = \"\"\n",
    "\n",
    "    try:\n",
    "        for name in range(len(json.loads(response_one['Body'])['results'][0]['products'][0]['active_ingredients'])):\n",
    "          active_ingredients_one = json.loads(response_one['Body'])['results'][0]['products'][0]['active_ingredients'][name]['name']\n",
    "    except:\n",
    "        pass\n",
    "\n",
    "    try:\n",
    "        for name in range(len(json.loads(response_two['Body'])['results'][0]['products'][0]['active_ingredients'])):\n",
    "          active_ingredients_one = json.loads(response_two['Body'])['results'][0]['products'][0]['active_ingredients'][name]['name']\n",
    "    except:\n",
    "        pass\n",
    "\n",
    "    interactions_one = tuple()\n",
    "    interactions_two = tuple()\n",
    "    try:\n",
    "        drug_interactions_one = json.loads(response_one['Body'])['results'][0]['drug_interactions'][0]\n",
    "        interactions_one = nlp(drug_interactions_one).ents\n",
    "    except:\n",
    "        pass\n",
    "\n",
    "    try:\n",
    "        drug_interactions_two = json.loads(response_two['Body'])['results'][0]['drug_interactions'][0]\n",
    "        interactions_two = nlp(drug_interactions_two).ents\n",
    "    except:\n",
    "        pass\n",
    "    \n",
    "    res_one = \"Some information missing in database \"\n",
    "    res_two = \"No hazardous reaction information was found between active components of one drug with the chemical interactions of other drug \"\n",
    "    res_three = \"Found chemical interactions between these drugs please consult doctor before consumption \"\n",
    "\n",
    "    if active_ingredients_two==\"\" and len(interactions_one)==0 and active_ingredients_one==\"\" and len(interactions_two)==0:\n",
    "        result = res_one\n",
    "    if len(list(set(interactions_one).intersection(list(active_ingredients_two))))==0 and len(list(set(interactions_two).intersection(list(active_ingredients_one))))==0:\n",
    "        result = res_two\n",
    "    else:\n",
    "        result = res_three\n",
    "    \n",
    "    return result \n",
    "  "
   ]
  },
  {
   "cell_type": "code",
   "execution_count": 11,
   "metadata": {
    "colab": {
     "base_uri": "https://localhost:8080/"
    },
    "id": "VcXugCDQ3eY-",
    "outputId": "3aca9762-00e2-4976-a9b1-ff1ea4a9ba7d"
   },
   "outputs": [],
   "source": [
    "result = contradictions(response_one,response_two)"
   ]
  },
  {
   "cell_type": "code",
   "execution_count": 12,
   "metadata": {},
   "outputs": [
    {
     "data": {
      "text/plain": [
       "'No hazardous reaction information was found between active components of one drug with the chemical interactions of other drug '"
      ]
     },
     "execution_count": 12,
     "metadata": {},
     "output_type": "execute_result"
    }
   ],
   "source": [
    "result"
   ]
  }
 ],
 "metadata": {
  "colab": {
   "provenance": []
  },
  "kernelspec": {
   "display_name": "Python 3 (ipykernel)",
   "language": "python",
   "name": "python3"
  },
  "language_info": {
   "codemirror_mode": {
    "name": "ipython",
    "version": 3
   },
   "file_extension": ".py",
   "mimetype": "text/x-python",
   "name": "python",
   "nbconvert_exporter": "python",
   "pygments_lexer": "ipython3",
   "version": "3.9.13"
  }
 },
 "nbformat": 4,
 "nbformat_minor": 1
}
