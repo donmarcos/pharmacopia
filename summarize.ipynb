{
  "nbformat": 4,
  "nbformat_minor": 0,
  "metadata": {
    "colab": {
      "provenance": [],
      "collapsed_sections": [],
      "authorship_tag": "ABX9TyMMJnEedXyq+ktP7Ikj6O70",
      "include_colab_link": true
    },
    "kernelspec": {
      "name": "python3",
      "display_name": "Python 3"
    },
    "language_info": {
      "name": "python"
    }
  },
  "cells": [
    {
      "cell_type": "markdown",
      "metadata": {
        "id": "view-in-github",
        "colab_type": "text"
      },
      "source": [
        "<a href=\"https://colab.research.google.com/github/donmarcos/pharmacopia/blob/main/summarize.ipynb\" target=\"_parent\"><img src=\"https://colab.research.google.com/assets/colab-badge.svg\" alt=\"Open In Colab\"/></a>"
      ]
    },
    {
      "cell_type": "markdown",
      "source": [
        "## **Summarizing medical information like warnings and indications using Spacy**"
      ],
      "metadata": {
        "id": "PAwjqVjQu5cA"
      }
    },
    {
      "cell_type": "code",
      "execution_count": 1,
      "metadata": {
        "id": "3xVrJHpDgNrh"
      },
      "outputs": [],
      "source": [
        "import spacy\n",
        "import textwrap\n",
        "from spacy.lang.en.stop_words import STOP_WORDS\n",
        "from string import punctuation\n",
        "from heapq import nlargest\n",
        "punctuation += '\\n' \n",
        "stopwords = list(STOP_WORDS)\n",
        "reduction_rate = 0.5  "
      ]
    },
    {
      "cell_type": "code",
      "source": [
        "sample = \"7 PATIENT COUNSELING INFORMATION Information for Patients Patients should be advised that amoxicillin may be taken every 8 hours or every 12 hours, depending on the dose prescribed. Patients should be counseled that antibacterial drugs, including amoxicillin, should only be used to treat bacterial infections. They do not treat viral infections (e.g., the common cold). When amoxicillin is prescribed to treat a bacterial infection, patients should be told that although it is common to feel better early in the course of therapy, the medication should be taken exactly as directed. Skipping doses or not completing the full course of therapy may: (1) decrease the effectiveness of the immediate treatment, and (2) increase the likelihood that bacteria will develop resistance and will not be treatable by amoxicillin or other antibacterial drugs in the future. Patients should be counseled that diarrhea is a common problem caused by antibiotics, and it usually ends when the antibiotic is discontinued. Sometimes after starting treatment with antibiotics, patients can develop watery and bloody stools (with or without stomach cramps and fever) even as late as 2 or more months after having taken their last dose of the antibiotic. If this occurs, patients should contact their physician as soon as possible. Patients should be aware that amoxicillin contains a penicillin class drug product that can cause allergic reactions in some individuals. CLINITEST \\\\u00ae is a registered trademark of Siemens Medical Solutions Diagnostics, and Ames Company, Inc. CLINISTIX \\\\u00ae is a registered trademark of Bayer Healthcare Llc, and Ames Company, Inc. CLOtest \\\\u00ae is a registered trademark of Kimberly-Clark Worldwide, Inc. Distributed by: Aurobindo Pharma USA, Inc. 279 Princeton-Hightstown Road East Windsor, NJ 08520 Manufactured by: Aurobindo Pharma Limited Hyderabad-500 038, India Revised: 06/2018\""
      ],
      "metadata": {
        "id": "S4s7hIHTQo53"
      },
      "execution_count": 2,
      "outputs": []
    },
    {
      "cell_type": "code",
      "source": [
        "nlp_pl = spacy.load('en_core_web_sm')     \n",
        "document = nlp_pl(sample)                 \n",
        "\n",
        "tokens = [token.text for token in document] \n",
        "\n",
        "word_frequencies = {}\n",
        "for word in document:\n",
        "    if word.text.lower() not in stopwords:\n",
        "        if word.text.lower() not in punctuation:\n",
        "            if word.text not in word_frequencies.keys():\n",
        "                word_frequencies[word.text] = 1\n",
        "            else:\n",
        "                word_frequencies[word.text] += 1\n",
        "\n",
        "max_frequency = max(word_frequencies.values())\n",
        "\n",
        "for word in word_frequencies.keys():\n",
        "    word_frequencies[word] = word_frequencies[word]/max_frequency\n",
        "\n",
        "print(word_frequencies)"
      ],
      "metadata": {
        "colab": {
          "base_uri": "https://localhost:8080/"
        },
        "id": "zBRobvz5gTvd",
        "outputId": "b5c9d257-051e-4d4b-b27b-6855223380c4"
      },
      "execution_count": 3,
      "outputs": [
        {
          "output_type": "stream",
          "name": "stdout",
          "text": [
            "{'7': 0.2, 'PATIENT': 0.2, 'COUNSELING': 0.2, 'INFORMATION': 0.2, 'Information': 0.2, 'Patients': 1.0, 'advised': 0.2, 'amoxicillin': 1.0, 'taken': 0.6, '8': 0.2, 'hours': 0.4, '12': 0.2, 'depending': 0.2, 'dose': 0.4, 'prescribed': 0.4, 'counseled': 0.4, 'antibacterial': 0.4, 'drugs': 0.4, 'including': 0.2, 'treat': 0.6, 'bacterial': 0.4, 'infections': 0.4, 'viral': 0.2, 'e.g.': 0.2, 'common': 0.6, 'cold': 0.2, 'infection': 0.2, 'patients': 0.6, 'told': 0.2, 'feel': 0.2, 'better': 0.2, 'early': 0.2, 'course': 0.4, 'therapy': 0.4, 'medication': 0.2, 'exactly': 0.2, 'directed': 0.2, 'Skipping': 0.2, 'doses': 0.2, 'completing': 0.2, '1': 0.2, 'decrease': 0.2, 'effectiveness': 0.2, 'immediate': 0.2, 'treatment': 0.4, '2': 0.4, 'increase': 0.2, 'likelihood': 0.2, 'bacteria': 0.2, 'develop': 0.4, 'resistance': 0.2, 'treatable': 0.2, 'future': 0.2, 'diarrhea': 0.2, 'problem': 0.2, 'caused': 0.2, 'antibiotics': 0.4, 'usually': 0.2, 'ends': 0.2, 'antibiotic': 0.4, 'discontinued': 0.2, 'starting': 0.2, 'watery': 0.2, 'bloody': 0.2, 'stools': 0.2, 'stomach': 0.2, 'cramps': 0.2, 'fever': 0.2, 'late': 0.2, 'months': 0.2, 'having': 0.2, 'occurs': 0.2, 'contact': 0.2, 'physician': 0.2, 'soon': 0.2, 'possible': 0.2, 'aware': 0.2, 'contains': 0.2, 'penicillin': 0.2, 'class': 0.2, 'drug': 0.2, 'product': 0.2, 'cause': 0.2, 'allergic': 0.2, 'reactions': 0.2, 'individuals': 0.2, 'CLINITEST': 0.2, '\\\\u00ae': 0.6, 'registered': 0.6, 'trademark': 0.6, 'Siemens': 0.2, 'Medical': 0.2, 'Solutions': 0.2, 'Diagnostics': 0.2, 'Ames': 0.4, 'Company': 0.4, 'Inc.': 0.8, 'CLINISTIX': 0.2, 'Bayer': 0.2, 'Healthcare': 0.2, 'Llc': 0.2, 'CLOtest': 0.2, 'Kimberly': 0.2, 'Clark': 0.2, 'Worldwide': 0.2, 'Distributed': 0.2, 'Aurobindo': 0.4, 'Pharma': 0.4, 'USA': 0.2, '279': 0.2, 'Princeton': 0.2, 'Hightstown': 0.2, 'Road': 0.2, 'East': 0.2, 'Windsor': 0.2, 'NJ': 0.2, '08520': 0.2, 'Manufactured': 0.2, 'Limited': 0.2, 'Hyderabad-500': 0.2, '038': 0.2, 'India': 0.2, 'Revised': 0.2, '06/2018': 0.2}\n"
          ]
        }
      ]
    },
    {
      "cell_type": "code",
      "source": [
        "sentence_tokens = [sent for sent in document.sents]\n",
        "\n",
        "def get_sentence_scores(sentence_tok, len_norm=True):\n",
        "  sentence_scores = {}\n",
        "  for sent in sentence_tok:\n",
        "      word_count = 0\n",
        "      for word in sent:\n",
        "          if word.text.lower() in word_frequencies.keys():\n",
        "              word_count += 1\n",
        "              if sent not in sentence_scores.keys():\n",
        "                  sentence_scores[sent] = word_frequencies[word.text.lower()]\n",
        "              else:\n",
        "                  sentence_scores[sent] += word_frequencies[word.text.lower()]\n",
        "      if len_norm:\n",
        "        sentence_scores[sent] = sentence_scores[sent]/word_count\n",
        "  return sentence_scores\n",
        "                \n",
        "sentence_scores = get_sentence_scores(sentence_tokens,len_norm=False)        #sentence scoring without lenght normalization\n",
        "#sentence_scores_rel = get_sentence_scores(sentence_tokens,len_norm=True)     #sentence scoring with length normalization"
      ],
      "metadata": {
        "id": "Ol4cE21ygTwx"
      },
      "execution_count": 4,
      "outputs": []
    },
    {
      "cell_type": "code",
      "source": [
        "def get_summary(sentence_sc, rate):\n",
        "  summary_length = int(len(sentence_sc)*rate)\n",
        "  summary = nlargest(summary_length, sentence_sc, key = sentence_sc.get)\n",
        "  final_summary = [word.text for word in summary]\n",
        "  summary = ' '.join(final_summary)\n",
        "  return summary"
      ],
      "metadata": {
        "id": "5EYQ8_ZGgTz_"
      },
      "execution_count": 5,
      "outputs": []
    },
    {
      "cell_type": "code",
      "source": [
        "get_summary(sentence_scores, reduction_rate)"
      ],
      "metadata": {
        "colab": {
          "base_uri": "https://localhost:8080/",
          "height": 123
        },
        "id": "IELAP0RqRMg-",
        "outputId": "5762b4f1-ef53-46bc-ef5d-f210a852228c"
      },
      "execution_count": 6,
      "outputs": [
        {
          "output_type": "execute_result",
          "data": {
            "text/plain": [
              "'When amoxicillin is prescribed to treat a bacterial infection, patients should be told that although it is common to feel better early in the course of therapy, the medication should be taken exactly as directed. Skipping doses or not completing the full course of therapy may: (1) decrease the effectiveness of the immediate treatment, and (2) increase the likelihood that bacteria will develop resistance and will not be treatable by amoxicillin or other antibacterial drugs in the future. Sometimes after starting treatment with antibiotics, patients can develop watery and bloody stools (with or without stomach cramps and fever) even as late as 2 or more months after having taken their last dose of the antibiotic. 7 PATIENT COUNSELING INFORMATION Information for Patients Patients should be advised that amoxicillin may be taken every 8 hours or every 12 hours, depending on the dose prescribed. Patients should be counseled that antibacterial drugs, including amoxicillin, should only be used to treat bacterial infections. Patients should be aware that amoxicillin contains a penicillin class drug product that can cause allergic reactions in some individuals.'"
            ],
            "application/vnd.google.colaboratory.intrinsic+json": {
              "type": "string"
            }
          },
          "metadata": {},
          "execution_count": 6
        }
      ]
    }
  ]
}